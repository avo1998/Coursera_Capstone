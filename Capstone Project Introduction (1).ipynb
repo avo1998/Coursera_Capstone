{
 "cells": [
  {
   "cell_type": "markdown",
   "metadata": {
    "collapsed": true
   },
   "source": [
    "This Notebook would be used mainly for the developmet of the Capstones Project"
   ]
  },
  {
   "cell_type": "code",
   "execution_count": 3,
   "metadata": {},
   "outputs": [],
   "source": [
    "import pandas as pd\n",
    "import numpy as np"
   ]
  },
  {
   "cell_type": "code",
   "execution_count": 33,
   "metadata": {},
   "outputs": [
    {
     "name": "stdout",
     "output_type": "stream",
     "text": [
      "Hello Capstone Project Course\n"
     ]
    }
   ],
   "source": [
    "print ('Hello Capstone Project Course')"
   ]
  },
  {
   "cell_type": "code",
   "execution_count": 4,
   "metadata": {},
   "outputs": [
    {
     "data": {
      "text/html": [
       "<div>\n",
       "<style scoped>\n",
       "    .dataframe tbody tr th:only-of-type {\n",
       "        vertical-align: middle;\n",
       "    }\n",
       "\n",
       "    .dataframe tbody tr th {\n",
       "        vertical-align: top;\n",
       "    }\n",
       "\n",
       "    .dataframe thead th {\n",
       "        text-align: right;\n",
       "    }\n",
       "</style>\n",
       "<table border=\"1\" class=\"dataframe\">\n",
       "  <thead>\n",
       "    <tr style=\"text-align: right;\">\n",
       "      <th></th>\n",
       "      <th>Postal code</th>\n",
       "      <th>Borough</th>\n",
       "      <th>Neighborhood</th>\n",
       "    </tr>\n",
       "  </thead>\n",
       "  <tbody>\n",
       "    <tr>\n",
       "      <th>0</th>\n",
       "      <td>M1A</td>\n",
       "      <td>Not assigned</td>\n",
       "      <td>NaN</td>\n",
       "    </tr>\n",
       "    <tr>\n",
       "      <th>1</th>\n",
       "      <td>M2A</td>\n",
       "      <td>Not assigned</td>\n",
       "      <td>NaN</td>\n",
       "    </tr>\n",
       "    <tr>\n",
       "      <th>2</th>\n",
       "      <td>M3A</td>\n",
       "      <td>North York</td>\n",
       "      <td>Parkwoods</td>\n",
       "    </tr>\n",
       "    <tr>\n",
       "      <th>3</th>\n",
       "      <td>M4A</td>\n",
       "      <td>North York</td>\n",
       "      <td>Victoria Village</td>\n",
       "    </tr>\n",
       "    <tr>\n",
       "      <th>4</th>\n",
       "      <td>M5A</td>\n",
       "      <td>Downtown Toronto</td>\n",
       "      <td>Regent Park / Harbourfront</td>\n",
       "    </tr>\n",
       "  </tbody>\n",
       "</table>\n",
       "</div>"
      ],
      "text/plain": [
       "  Postal code           Borough                Neighborhood\n",
       "0         M1A      Not assigned                         NaN\n",
       "1         M2A      Not assigned                         NaN\n",
       "2         M3A        North York                   Parkwoods\n",
       "3         M4A        North York            Victoria Village\n",
       "4         M5A  Downtown Toronto  Regent Park / Harbourfront"
      ]
     },
     "execution_count": 4,
     "metadata": {},
     "output_type": "execute_result"
    }
   ],
   "source": [
    "import types\n",
    "import pandas as pd\n",
    "from botocore.client import Config\n",
    "import ibm_boto3\n",
    "\n",
    "def __iter__(self): return 0\n",
    "\n",
    "# @hidden_cell\n",
    "# The following code accesses a file in your IBM Cloud Object Storage. It includes your credentials.\n",
    "# You might want to remove those credentials before you share the notebook.\n",
    "client_ac3f7afc30a549c58fb6cf226131b705 = ibm_boto3.client(service_name='s3',\n",
    "    ibm_api_key_id='in2xZ9r7YRnAdOXHoMzjt_Qsh8HayHyJroyk42DYItDF',\n",
    "    ibm_auth_endpoint=\"https://iam.ng.bluemix.net/oidc/token\",\n",
    "    config=Config(signature_version='oauth'),\n",
    "    endpoint_url='https://s3-api.us-geo.objectstorage.service.networklayer.com')\n",
    "\n",
    "body = client_ac3f7afc30a549c58fb6cf226131b705.get_object(Bucket='capstoneproject-donotdelete-pr-f78ewbdz9fysl5',Key='CPC.xlsx')['Body']\n",
    "# add missing __iter__ method, so pandas accepts body as file-like object\n",
    "if not hasattr(body, \"__iter__\"): body.__iter__ = types.MethodType( __iter__, body )\n",
    "\n",
    "df_data_0 = pd.read_excel(body)\n",
    "df_data_0.head()"
   ]
  },
  {
   "cell_type": "code",
   "execution_count": 59,
   "metadata": {},
   "outputs": [],
   "source": [
    "df_data_0.replace('Not assigned',np.NaN);"
   ]
  },
  {
   "cell_type": "code",
   "execution_count": 60,
   "metadata": {},
   "outputs": [
    {
     "data": {
      "text/html": [
       "<div>\n",
       "<style scoped>\n",
       "    .dataframe tbody tr th:only-of-type {\n",
       "        vertical-align: middle;\n",
       "    }\n",
       "\n",
       "    .dataframe tbody tr th {\n",
       "        vertical-align: top;\n",
       "    }\n",
       "\n",
       "    .dataframe thead th {\n",
       "        text-align: right;\n",
       "    }\n",
       "</style>\n",
       "<table border=\"1\" class=\"dataframe\">\n",
       "  <thead>\n",
       "    <tr style=\"text-align: right;\">\n",
       "      <th></th>\n",
       "      <th>Postal code</th>\n",
       "      <th>Borough</th>\n",
       "      <th>Neighborhood</th>\n",
       "    </tr>\n",
       "  </thead>\n",
       "  <tbody>\n",
       "    <tr>\n",
       "      <th>0</th>\n",
       "      <td>M3A</td>\n",
       "      <td>North York</td>\n",
       "      <td>Parkwoods</td>\n",
       "    </tr>\n",
       "    <tr>\n",
       "      <th>1</th>\n",
       "      <td>M4A</td>\n",
       "      <td>North York</td>\n",
       "      <td>Victoria Village</td>\n",
       "    </tr>\n",
       "    <tr>\n",
       "      <th>2</th>\n",
       "      <td>M5A</td>\n",
       "      <td>Downtown Toronto</td>\n",
       "      <td>Regent Park / Harbourfront</td>\n",
       "    </tr>\n",
       "    <tr>\n",
       "      <th>3</th>\n",
       "      <td>M6A</td>\n",
       "      <td>North York</td>\n",
       "      <td>Lawrence Manor / Lawrence Heights</td>\n",
       "    </tr>\n",
       "    <tr>\n",
       "      <th>4</th>\n",
       "      <td>M7A</td>\n",
       "      <td>Downtown Toronto</td>\n",
       "      <td>Queen's Park / Ontario Provincial Government</td>\n",
       "    </tr>\n",
       "  </tbody>\n",
       "</table>\n",
       "</div>"
      ],
      "text/plain": [
       "  Postal code           Borough                                  Neighborhood\n",
       "0         M3A        North York                                     Parkwoods\n",
       "1         M4A        North York                              Victoria Village\n",
       "2         M5A  Downtown Toronto                    Regent Park / Harbourfront\n",
       "3         M6A        North York             Lawrence Manor / Lawrence Heights\n",
       "4         M7A  Downtown Toronto  Queen's Park / Ontario Provincial Government"
      ]
     },
     "execution_count": 60,
     "metadata": {},
     "output_type": "execute_result"
    }
   ],
   "source": [
    "df_data_0.dropna(inplace=True)\n",
    "df_data_0.reset_index(inplace=True)\n",
    "df_data_0.drop(['index'],axis=1,inplace=True)\n",
    "df_data_0.head()\n",
    "df_data_0.groupby(['Postal code'])\n",
    "df_data_0.head()"
   ]
  },
  {
   "cell_type": "code",
   "execution_count": 61,
   "metadata": {},
   "outputs": [
    {
     "data": {
      "text/plain": [
       "['M3A', 'M4A', 'M5A', 'M6A', 'M7A']"
      ]
     },
     "execution_count": 61,
     "metadata": {},
     "output_type": "execute_result"
    }
   ],
   "source": [
    "listpostalcodes=df_data_0['Postal code'].tolist();\n",
    "listpostalcodes[0:5]"
   ]
  },
  {
   "cell_type": "code",
   "execution_count": 62,
   "metadata": {},
   "outputs": [
    {
     "data": {
      "text/html": [
       "<div>\n",
       "<style scoped>\n",
       "    .dataframe tbody tr th:only-of-type {\n",
       "        vertical-align: middle;\n",
       "    }\n",
       "\n",
       "    .dataframe tbody tr th {\n",
       "        vertical-align: top;\n",
       "    }\n",
       "\n",
       "    .dataframe thead th {\n",
       "        text-align: right;\n",
       "    }\n",
       "</style>\n",
       "<table border=\"1\" class=\"dataframe\">\n",
       "  <thead>\n",
       "    <tr style=\"text-align: right;\">\n",
       "      <th></th>\n",
       "      <th>Postal code</th>\n",
       "      <th>Latitude</th>\n",
       "      <th>Longitude</th>\n",
       "    </tr>\n",
       "  </thead>\n",
       "  <tbody>\n",
       "    <tr>\n",
       "      <th>0</th>\n",
       "      <td>M1B</td>\n",
       "      <td>43.806686</td>\n",
       "      <td>-79.194353</td>\n",
       "    </tr>\n",
       "    <tr>\n",
       "      <th>1</th>\n",
       "      <td>M1C</td>\n",
       "      <td>43.784535</td>\n",
       "      <td>-79.160497</td>\n",
       "    </tr>\n",
       "    <tr>\n",
       "      <th>2</th>\n",
       "      <td>M1E</td>\n",
       "      <td>43.763573</td>\n",
       "      <td>-79.188711</td>\n",
       "    </tr>\n",
       "    <tr>\n",
       "      <th>3</th>\n",
       "      <td>M1G</td>\n",
       "      <td>43.770992</td>\n",
       "      <td>-79.216917</td>\n",
       "    </tr>\n",
       "    <tr>\n",
       "      <th>4</th>\n",
       "      <td>M1H</td>\n",
       "      <td>43.773136</td>\n",
       "      <td>-79.239476</td>\n",
       "    </tr>\n",
       "  </tbody>\n",
       "</table>\n",
       "</div>"
      ],
      "text/plain": [
       "  Postal code   Latitude  Longitude\n",
       "0         M1B  43.806686 -79.194353\n",
       "1         M1C  43.784535 -79.160497\n",
       "2         M1E  43.763573 -79.188711\n",
       "3         M1G  43.770992 -79.216917\n",
       "4         M1H  43.773136 -79.239476"
      ]
     },
     "execution_count": 62,
     "metadata": {},
     "output_type": "execute_result"
    }
   ],
   "source": [
    "# Geocoder dosen'y work well so I will extract de data from the CSV file\n",
    "\n",
    "body = client_ac3f7afc30a549c58fb6cf226131b705.get_object(Bucket='capstoneproject-donotdelete-pr-f78ewbdz9fysl5',Key='Geospatial_Coordinates.csv')['Body']\n",
    "\n",
    "# add missing __iter__ method, so pandas accepts body as file-like object\n",
    "\n",
    "if not hasattr(body, \"__iter__\"): body.__iter__ = types.MethodType( __iter__, body )\n",
    "\n",
    "df_data_1 = pd.read_csv(body)\n",
    "df_data_1.columns=['Postal code','Latitude','Longitude']\n",
    "df_data_1.head()"
   ]
  },
  {
   "cell_type": "code",
   "execution_count": 63,
   "metadata": {},
   "outputs": [
    {
     "data": {
      "text/html": [
       "<div>\n",
       "<style scoped>\n",
       "    .dataframe tbody tr th:only-of-type {\n",
       "        vertical-align: middle;\n",
       "    }\n",
       "\n",
       "    .dataframe tbody tr th {\n",
       "        vertical-align: top;\n",
       "    }\n",
       "\n",
       "    .dataframe thead th {\n",
       "        text-align: right;\n",
       "    }\n",
       "</style>\n",
       "<table border=\"1\" class=\"dataframe\">\n",
       "  <thead>\n",
       "    <tr style=\"text-align: right;\">\n",
       "      <th></th>\n",
       "      <th>Postal code</th>\n",
       "      <th>Borough</th>\n",
       "      <th>Neighborhood</th>\n",
       "      <th>Latitude</th>\n",
       "      <th>Longitude</th>\n",
       "    </tr>\n",
       "  </thead>\n",
       "  <tbody>\n",
       "    <tr>\n",
       "      <th>0</th>\n",
       "      <td>M3A</td>\n",
       "      <td>North York</td>\n",
       "      <td>Parkwoods</td>\n",
       "      <td>43.753259</td>\n",
       "      <td>-79.329656</td>\n",
       "    </tr>\n",
       "    <tr>\n",
       "      <th>1</th>\n",
       "      <td>M4A</td>\n",
       "      <td>North York</td>\n",
       "      <td>Victoria Village</td>\n",
       "      <td>43.725882</td>\n",
       "      <td>-79.315572</td>\n",
       "    </tr>\n",
       "    <tr>\n",
       "      <th>2</th>\n",
       "      <td>M5A</td>\n",
       "      <td>Downtown Toronto</td>\n",
       "      <td>Regent Park / Harbourfront</td>\n",
       "      <td>43.654260</td>\n",
       "      <td>-79.360636</td>\n",
       "    </tr>\n",
       "    <tr>\n",
       "      <th>3</th>\n",
       "      <td>M6A</td>\n",
       "      <td>North York</td>\n",
       "      <td>Lawrence Manor / Lawrence Heights</td>\n",
       "      <td>43.718518</td>\n",
       "      <td>-79.464763</td>\n",
       "    </tr>\n",
       "    <tr>\n",
       "      <th>4</th>\n",
       "      <td>M7A</td>\n",
       "      <td>Downtown Toronto</td>\n",
       "      <td>Queen's Park / Ontario Provincial Government</td>\n",
       "      <td>43.662301</td>\n",
       "      <td>-79.389494</td>\n",
       "    </tr>\n",
       "  </tbody>\n",
       "</table>\n",
       "</div>"
      ],
      "text/plain": [
       "  Postal code           Borough                                  Neighborhood  \\\n",
       "0         M3A        North York                                     Parkwoods   \n",
       "1         M4A        North York                              Victoria Village   \n",
       "2         M5A  Downtown Toronto                    Regent Park / Harbourfront   \n",
       "3         M6A        North York             Lawrence Manor / Lawrence Heights   \n",
       "4         M7A  Downtown Toronto  Queen's Park / Ontario Provincial Government   \n",
       "\n",
       "    Latitude  Longitude  \n",
       "0  43.753259 -79.329656  \n",
       "1  43.725882 -79.315572  \n",
       "2  43.654260 -79.360636  \n",
       "3  43.718518 -79.464763  \n",
       "4  43.662301 -79.389494  "
      ]
     },
     "execution_count": 63,
     "metadata": {},
     "output_type": "execute_result"
    }
   ],
   "source": [
    "results=pd.merge(df_data_0,df_data_1[['Postal code', 'Latitude', 'Longitude']],on='Postal code')\n",
    "results.head()"
   ]
  },
  {
   "cell_type": "markdown",
   "metadata": {},
   "source": [
    "We will work only with the Boroughs that contain the wrod Toronto"
   ]
  },
  {
   "cell_type": "code",
   "execution_count": 64,
   "metadata": {},
   "outputs": [
    {
     "data": {
      "text/html": [
       "<div>\n",
       "<style scoped>\n",
       "    .dataframe tbody tr th:only-of-type {\n",
       "        vertical-align: middle;\n",
       "    }\n",
       "\n",
       "    .dataframe tbody tr th {\n",
       "        vertical-align: top;\n",
       "    }\n",
       "\n",
       "    .dataframe thead th {\n",
       "        text-align: right;\n",
       "    }\n",
       "</style>\n",
       "<table border=\"1\" class=\"dataframe\">\n",
       "  <thead>\n",
       "    <tr style=\"text-align: right;\">\n",
       "      <th></th>\n",
       "      <th>Postal code</th>\n",
       "      <th>Borough</th>\n",
       "      <th>Neighborhood</th>\n",
       "      <th>Latitude</th>\n",
       "      <th>Longitude</th>\n",
       "    </tr>\n",
       "  </thead>\n",
       "  <tbody>\n",
       "    <tr>\n",
       "      <th>2</th>\n",
       "      <td>M5A</td>\n",
       "      <td>Downtown Toronto</td>\n",
       "      <td>Regent Park / Harbourfront</td>\n",
       "      <td>43.654260</td>\n",
       "      <td>-79.360636</td>\n",
       "    </tr>\n",
       "    <tr>\n",
       "      <th>4</th>\n",
       "      <td>M7A</td>\n",
       "      <td>Downtown Toronto</td>\n",
       "      <td>Queen's Park / Ontario Provincial Government</td>\n",
       "      <td>43.662301</td>\n",
       "      <td>-79.389494</td>\n",
       "    </tr>\n",
       "    <tr>\n",
       "      <th>9</th>\n",
       "      <td>M5B</td>\n",
       "      <td>Downtown Toronto</td>\n",
       "      <td>Garden District, Ryerson</td>\n",
       "      <td>43.657162</td>\n",
       "      <td>-79.378937</td>\n",
       "    </tr>\n",
       "    <tr>\n",
       "      <th>15</th>\n",
       "      <td>M5C</td>\n",
       "      <td>Downtown Toronto</td>\n",
       "      <td>St. James Town</td>\n",
       "      <td>43.651494</td>\n",
       "      <td>-79.375418</td>\n",
       "    </tr>\n",
       "    <tr>\n",
       "      <th>19</th>\n",
       "      <td>M4E</td>\n",
       "      <td>East Toronto</td>\n",
       "      <td>The Beaches</td>\n",
       "      <td>43.676357</td>\n",
       "      <td>-79.293031</td>\n",
       "    </tr>\n",
       "  </tbody>\n",
       "</table>\n",
       "</div>"
      ],
      "text/plain": [
       "   Postal code           Borough  \\\n",
       "2          M5A  Downtown Toronto   \n",
       "4          M7A  Downtown Toronto   \n",
       "9          M5B  Downtown Toronto   \n",
       "15         M5C  Downtown Toronto   \n",
       "19         M4E      East Toronto   \n",
       "\n",
       "                                    Neighborhood   Latitude  Longitude  \n",
       "2                     Regent Park / Harbourfront  43.654260 -79.360636  \n",
       "4   Queen's Park / Ontario Provincial Government  43.662301 -79.389494  \n",
       "9                       Garden District, Ryerson  43.657162 -79.378937  \n",
       "15                                St. James Town  43.651494 -79.375418  \n",
       "19                                   The Beaches  43.676357 -79.293031  "
      ]
     },
     "execution_count": 64,
     "metadata": {},
     "output_type": "execute_result"
    }
   ],
   "source": [
    "df=results[results['Borough'].str.contains(\"Toronto\")]\n",
    "df.head()"
   ]
  },
  {
   "cell_type": "code",
   "execution_count": 15,
   "metadata": {
    "scrolled": true
   },
   "outputs": [
    {
     "name": "stdout",
     "output_type": "stream",
     "text": [
      "Requirement already satisfied: geopy in /opt/conda/envs/Python36/lib/python3.6/site-packages (1.18.1)\n",
      "Requirement already satisfied: geographiclib<2,>=1.49 in /opt/conda/envs/Python36/lib/python3.6/site-packages (from geopy) (1.49)\n",
      "Libraries imported.\n"
     ]
    }
   ],
   "source": [
    "import sys\n",
    "!{sys.executable} -m pip install geopy\n",
    "\n",
    "import numpy as np # library to handle data in a vectorized manner\n",
    "\n",
    "import pandas as pd # library for data analsysis\n",
    "pd.set_option('display.max_columns', None)\n",
    "pd.set_option('display.max_rows', None)\n",
    "\n",
    "import json # library to handle JSON files\n",
    "\n",
    "#!conda install -c conda-forge geopy --yes # uncomment this line if you haven't completed the Foursquare API lab\n",
    "from geopy.geocoders import Nominatim # convert an address into latitude and longitude values\n",
    "\n",
    "import requests # library to handle requests\n",
    "from pandas.io.json import json_normalize # tranform JSON file into a pandas dataframe\n",
    "\n",
    "# Matplotlib and associated plotting modules\n",
    "import matplotlib.cm as cm\n",
    "import matplotlib.colors as colors\n",
    "\n",
    "# import k-means from clustering stage\n",
    "from sklearn.cluster import KMeans\n",
    "\n",
    "#!conda install -c conda-forge folium=0.5.0 --yes # uncomment this line if you haven't completed the Foursquare API lab\n",
    "import folium # map rendering library\n",
    "\n",
    "print('Libraries imported.')"
   ]
  },
  {
   "cell_type": "code",
   "execution_count": 21,
   "metadata": {},
   "outputs": [
    {
     "name": "stdout",
     "output_type": "stream",
     "text": [
      "Your credentails:\n",
      "CLIENT_ID: SPNUHZYZIHAE3MC5PCKF5GH1KUEN210CDLARIFYB5XNLDEOH\n",
      "CLIENT_SECRET:5KMRSU4S4C0NHZUUZ31H3AQKOJP4IBZ3FICEAX0THIV0XGO5\n"
     ]
    }
   ],
   "source": [
    "CLIENT_ID = 'SPNUHZYZIHAE3MC5PCKF5GH1KUEN210CDLARIFYB5XNLDEOH' # your Foursquare ID\n",
    "CLIENT_SECRET = '5KMRSU4S4C0NHZUUZ31H3AQKOJP4IBZ3FICEAX0THIV0XGO5' # your Foursquare Secret\n",
    "VERSION = '20180604'\n",
    "LIMIT = 30\n",
    "print('Your credentails:')\n",
    "print('CLIENT_ID: ' + CLIENT_ID)\n",
    "print('CLIENT_SECRET:' + CLIENT_SECRET)"
   ]
  },
  {
   "cell_type": "code",
   "execution_count": 32,
   "metadata": {},
   "outputs": [
    {
     "name": "stdout",
     "output_type": "stream",
     "text": [
      "43.6534817 -79.3839347\n"
     ]
    }
   ],
   "source": [
    "address = 'Toronto, Canada'\n",
    "\n",
    "geolocator = Nominatim(user_agent=\"foursquare_agent\")\n",
    "location = geolocator.geocode(address)\n",
    "latitude = location.latitude\n",
    "longitude = location.longitude\n",
    "print(latitude, longitude)"
   ]
  },
  {
   "cell_type": "code",
   "execution_count": 67,
   "metadata": {},
   "outputs": [
    {
     "data": {
      "text/html": [
       "<div>\n",
       "<style scoped>\n",
       "    .dataframe tbody tr th:only-of-type {\n",
       "        vertical-align: middle;\n",
       "    }\n",
       "\n",
       "    .dataframe tbody tr th {\n",
       "        vertical-align: top;\n",
       "    }\n",
       "\n",
       "    .dataframe thead th {\n",
       "        text-align: right;\n",
       "    }\n",
       "</style>\n",
       "<table border=\"1\" class=\"dataframe\">\n",
       "  <thead>\n",
       "    <tr style=\"text-align: right;\">\n",
       "      <th></th>\n",
       "      <th>Latitude</th>\n",
       "      <th>Longitude</th>\n",
       "    </tr>\n",
       "  </thead>\n",
       "  <tbody>\n",
       "    <tr>\n",
       "      <th>2</th>\n",
       "      <td>43.654260</td>\n",
       "      <td>-79.360636</td>\n",
       "    </tr>\n",
       "    <tr>\n",
       "      <th>4</th>\n",
       "      <td>43.662301</td>\n",
       "      <td>-79.389494</td>\n",
       "    </tr>\n",
       "    <tr>\n",
       "      <th>9</th>\n",
       "      <td>43.657162</td>\n",
       "      <td>-79.378937</td>\n",
       "    </tr>\n",
       "    <tr>\n",
       "      <th>15</th>\n",
       "      <td>43.651494</td>\n",
       "      <td>-79.375418</td>\n",
       "    </tr>\n",
       "    <tr>\n",
       "      <th>19</th>\n",
       "      <td>43.676357</td>\n",
       "      <td>-79.293031</td>\n",
       "    </tr>\n",
       "  </tbody>\n",
       "</table>\n",
       "</div>"
      ],
      "text/plain": [
       "     Latitude  Longitude\n",
       "2   43.654260 -79.360636\n",
       "4   43.662301 -79.389494\n",
       "9   43.657162 -79.378937\n",
       "15  43.651494 -79.375418\n",
       "19  43.676357 -79.293031"
      ]
     },
     "execution_count": 67,
     "metadata": {},
     "output_type": "execute_result"
    }
   ],
   "source": [
    "dataforkmeans=df[['Latitude','Longitude']]\n",
    "dataforkmeans.head()\n"
   ]
  },
  {
   "cell_type": "code",
   "execution_count": 68,
   "metadata": {},
   "outputs": [
    {
     "data": {
      "text/plain": [
       "Postal code      object\n",
       "Borough          object\n",
       "Neighborhood     object\n",
       "Latitude        float64\n",
       "Longitude       float64\n",
       "dtype: object"
      ]
     },
     "execution_count": 68,
     "metadata": {},
     "output_type": "execute_result"
    }
   ],
   "source": [
    "df.dtypes"
   ]
  },
  {
   "cell_type": "code",
   "execution_count": 69,
   "metadata": {},
   "outputs": [
    {
     "data": {
      "text/plain": [
       "array([0, 0, 0, 0, 4, 0, 0, 3, 0, 1], dtype=int32)"
      ]
     },
     "execution_count": 69,
     "metadata": {},
     "output_type": "execute_result"
    }
   ],
   "source": [
    "# set number of clusters\n",
    "kclusters = 5\n",
    "\n",
    "# run k-means clustering\n",
    "kmeans = KMeans(n_clusters=kclusters, random_state=0).fit(dataforkmeans)\n",
    "\n",
    "# check cluster labels generated for each row in the dataframe\n",
    "kmeans.labels_[0:10] "
   ]
  },
  {
   "cell_type": "code",
   "execution_count": 71,
   "metadata": {},
   "outputs": [
    {
     "data": {
      "text/html": [
       "<div>\n",
       "<style scoped>\n",
       "    .dataframe tbody tr th:only-of-type {\n",
       "        vertical-align: middle;\n",
       "    }\n",
       "\n",
       "    .dataframe tbody tr th {\n",
       "        vertical-align: top;\n",
       "    }\n",
       "\n",
       "    .dataframe thead th {\n",
       "        text-align: right;\n",
       "    }\n",
       "</style>\n",
       "<table border=\"1\" class=\"dataframe\">\n",
       "  <thead>\n",
       "    <tr style=\"text-align: right;\">\n",
       "      <th></th>\n",
       "      <th>Cluster Labels</th>\n",
       "      <th>Postal code</th>\n",
       "      <th>Borough</th>\n",
       "      <th>Neighborhood</th>\n",
       "      <th>Latitude</th>\n",
       "      <th>Longitude</th>\n",
       "    </tr>\n",
       "  </thead>\n",
       "  <tbody>\n",
       "    <tr>\n",
       "      <th>2</th>\n",
       "      <td>0</td>\n",
       "      <td>M5A</td>\n",
       "      <td>Downtown Toronto</td>\n",
       "      <td>Regent Park / Harbourfront</td>\n",
       "      <td>43.654260</td>\n",
       "      <td>-79.360636</td>\n",
       "    </tr>\n",
       "    <tr>\n",
       "      <th>4</th>\n",
       "      <td>0</td>\n",
       "      <td>M7A</td>\n",
       "      <td>Downtown Toronto</td>\n",
       "      <td>Queen's Park / Ontario Provincial Government</td>\n",
       "      <td>43.662301</td>\n",
       "      <td>-79.389494</td>\n",
       "    </tr>\n",
       "    <tr>\n",
       "      <th>9</th>\n",
       "      <td>0</td>\n",
       "      <td>M5B</td>\n",
       "      <td>Downtown Toronto</td>\n",
       "      <td>Garden District, Ryerson</td>\n",
       "      <td>43.657162</td>\n",
       "      <td>-79.378937</td>\n",
       "    </tr>\n",
       "    <tr>\n",
       "      <th>15</th>\n",
       "      <td>0</td>\n",
       "      <td>M5C</td>\n",
       "      <td>Downtown Toronto</td>\n",
       "      <td>St. James Town</td>\n",
       "      <td>43.651494</td>\n",
       "      <td>-79.375418</td>\n",
       "    </tr>\n",
       "    <tr>\n",
       "      <th>19</th>\n",
       "      <td>4</td>\n",
       "      <td>M4E</td>\n",
       "      <td>East Toronto</td>\n",
       "      <td>The Beaches</td>\n",
       "      <td>43.676357</td>\n",
       "      <td>-79.293031</td>\n",
       "    </tr>\n",
       "  </tbody>\n",
       "</table>\n",
       "</div>"
      ],
      "text/plain": [
       "    Cluster Labels Postal code           Borough  \\\n",
       "2                0         M5A  Downtown Toronto   \n",
       "4                0         M7A  Downtown Toronto   \n",
       "9                0         M5B  Downtown Toronto   \n",
       "15               0         M5C  Downtown Toronto   \n",
       "19               4         M4E      East Toronto   \n",
       "\n",
       "                                    Neighborhood   Latitude  Longitude  \n",
       "2                     Regent Park / Harbourfront  43.654260 -79.360636  \n",
       "4   Queen's Park / Ontario Provincial Government  43.662301 -79.389494  \n",
       "9                       Garden District, Ryerson  43.657162 -79.378937  \n",
       "15                                St. James Town  43.651494 -79.375418  \n",
       "19                                   The Beaches  43.676357 -79.293031  "
      ]
     },
     "execution_count": 71,
     "metadata": {},
     "output_type": "execute_result"
    }
   ],
   "source": [
    "df.insert(0, 'Cluster Labels', kmeans.labels_)\n",
    "df.head()"
   ]
  },
  {
   "cell_type": "code",
   "execution_count": 73,
   "metadata": {},
   "outputs": [
    {
     "data": {
      "text/html": [
       "<div style=\"width:100%;\"><div style=\"position:relative;width:100%;height:0;padding-bottom:60%;\"><iframe src=\"about:blank\" style=\"position:absolute;width:100%;height:100%;left:0;top:0;border:none !important;\" data-html=PCFET0NUWVBFIGh0bWw+CjxoZWFkPiAgICAKICAgIDxtZXRhIGh0dHAtZXF1aXY9ImNvbnRlbnQtdHlwZSIgY29udGVudD0idGV4dC9odG1sOyBjaGFyc2V0PVVURi04IiAvPgogICAgCiAgICAgICAgPHNjcmlwdD4KICAgICAgICAgICAgTF9OT19UT1VDSCA9IGZhbHNlOwogICAgICAgICAgICBMX0RJU0FCTEVfM0QgPSBmYWxzZTsKICAgICAgICA8L3NjcmlwdD4KICAgIAogICAgPHNjcmlwdCBzcmM9Imh0dHBzOi8vY2RuLmpzZGVsaXZyLm5ldC9ucG0vbGVhZmxldEAxLjUuMS9kaXN0L2xlYWZsZXQuanMiPjwvc2NyaXB0PgogICAgPHNjcmlwdCBzcmM9Imh0dHBzOi8vY29kZS5qcXVlcnkuY29tL2pxdWVyeS0xLjEyLjQubWluLmpzIj48L3NjcmlwdD4KICAgIDxzY3JpcHQgc3JjPSJodHRwczovL21heGNkbi5ib290c3RyYXBjZG4uY29tL2Jvb3RzdHJhcC8zLjIuMC9qcy9ib290c3RyYXAubWluLmpzIj48L3NjcmlwdD4KICAgIDxzY3JpcHQgc3JjPSJodHRwczovL2NkbmpzLmNsb3VkZmxhcmUuY29tL2FqYXgvbGlicy9MZWFmbGV0LmF3ZXNvbWUtbWFya2Vycy8yLjAuMi9sZWFmbGV0LmF3ZXNvbWUtbWFya2Vycy5qcyI+PC9zY3JpcHQ+CiAgICA8bGluayByZWw9InN0eWxlc2hlZXQiIGhyZWY9Imh0dHBzOi8vY2RuLmpzZGVsaXZyLm5ldC9ucG0vbGVhZmxldEAxLjUuMS9kaXN0L2xlYWZsZXQuY3NzIi8+CiAgICA8bGluayByZWw9InN0eWxlc2hlZXQiIGhyZWY9Imh0dHBzOi8vbWF4Y2RuLmJvb3RzdHJhcGNkbi5jb20vYm9vdHN0cmFwLzMuMi4wL2Nzcy9ib290c3RyYXAubWluLmNzcyIvPgogICAgPGxpbmsgcmVsPSJzdHlsZXNoZWV0IiBocmVmPSJodHRwczovL21heGNkbi5ib290c3RyYXBjZG4uY29tL2Jvb3RzdHJhcC8zLjIuMC9jc3MvYm9vdHN0cmFwLXRoZW1lLm1pbi5jc3MiLz4KICAgIDxsaW5rIHJlbD0ic3R5bGVzaGVldCIgaHJlZj0iaHR0cHM6Ly9tYXhjZG4uYm9vdHN0cmFwY2RuLmNvbS9mb250LWF3ZXNvbWUvNC42LjMvY3NzL2ZvbnQtYXdlc29tZS5taW4uY3NzIi8+CiAgICA8bGluayByZWw9InN0eWxlc2hlZXQiIGhyZWY9Imh0dHBzOi8vY2RuanMuY2xvdWRmbGFyZS5jb20vYWpheC9saWJzL0xlYWZsZXQuYXdlc29tZS1tYXJrZXJzLzIuMC4yL2xlYWZsZXQuYXdlc29tZS1tYXJrZXJzLmNzcyIvPgogICAgPGxpbmsgcmVsPSJzdHlsZXNoZWV0IiBocmVmPSJodHRwczovL3Jhd2Nkbi5naXRoYWNrLmNvbS9weXRob24tdmlzdWFsaXphdGlvbi9mb2xpdW0vbWFzdGVyL2ZvbGl1bS90ZW1wbGF0ZXMvbGVhZmxldC5hd2Vzb21lLnJvdGF0ZS5jc3MiLz4KICAgIDxzdHlsZT5odG1sLCBib2R5IHt3aWR0aDogMTAwJTtoZWlnaHQ6IDEwMCU7bWFyZ2luOiAwO3BhZGRpbmc6IDA7fTwvc3R5bGU+CiAgICA8c3R5bGU+I21hcCB7cG9zaXRpb246YWJzb2x1dGU7dG9wOjA7Ym90dG9tOjA7cmlnaHQ6MDtsZWZ0OjA7fTwvc3R5bGU+CiAgICAKICAgICAgICAgICAgPG1ldGEgbmFtZT0idmlld3BvcnQiIGNvbnRlbnQ9IndpZHRoPWRldmljZS13aWR0aCwKICAgICAgICAgICAgICAgIGluaXRpYWwtc2NhbGU9MS4wLCBtYXhpbXVtLXNjYWxlPTEuMCwgdXNlci1zY2FsYWJsZT1ubyIgLz4KICAgICAgICAgICAgPHN0eWxlPgogICAgICAgICAgICAgICAgI21hcF9hZjlkN2FhNDFkYjQ0NjM0YTdhM2E3YTUxYTczMGIzMiB7CiAgICAgICAgICAgICAgICAgICAgcG9zaXRpb246IHJlbGF0aXZlOwogICAgICAgICAgICAgICAgICAgIHdpZHRoOiAxMDAuMCU7CiAgICAgICAgICAgICAgICAgICAgaGVpZ2h0OiAxMDAuMCU7CiAgICAgICAgICAgICAgICAgICAgbGVmdDogMC4wJTsKICAgICAgICAgICAgICAgICAgICB0b3A6IDAuMCU7CiAgICAgICAgICAgICAgICB9CiAgICAgICAgICAgIDwvc3R5bGU+CiAgICAgICAgCjwvaGVhZD4KPGJvZHk+ICAgIAogICAgCiAgICAgICAgICAgIDxkaXYgY2xhc3M9ImZvbGl1bS1tYXAiIGlkPSJtYXBfYWY5ZDdhYTQxZGI0NDYzNGE3YTNhN2E1MWE3MzBiMzIiID48L2Rpdj4KICAgICAgICAKPC9ib2R5Pgo8c2NyaXB0PiAgICAKICAgIAogICAgICAgICAgICB2YXIgbWFwX2FmOWQ3YWE0MWRiNDQ2MzRhN2EzYTdhNTFhNzMwYjMyID0gTC5tYXAoCiAgICAgICAgICAgICAgICAibWFwX2FmOWQ3YWE0MWRiNDQ2MzRhN2EzYTdhNTFhNzMwYjMyIiwKICAgICAgICAgICAgICAgIHsKICAgICAgICAgICAgICAgICAgICBjZW50ZXI6IFs0My42NTM0ODE3LCAtNzkuMzgzOTM0N10sCiAgICAgICAgICAgICAgICAgICAgY3JzOiBMLkNSUy5FUFNHMzg1NywKICAgICAgICAgICAgICAgICAgICB6b29tOiAxMSwKICAgICAgICAgICAgICAgICAgICB6b29tQ29udHJvbDogdHJ1ZSwKICAgICAgICAgICAgICAgICAgICBwcmVmZXJDYW52YXM6IGZhbHNlLAogICAgICAgICAgICAgICAgfQogICAgICAgICAgICApOwoKICAgICAgICAgICAgCgogICAgICAgIAogICAgCiAgICAgICAgICAgIHZhciB0aWxlX2xheWVyXzcwNmEwYzIzZjRjYzQxODA5YjA0YWY1MTlkYTZlMmNhID0gTC50aWxlTGF5ZXIoCiAgICAgICAgICAgICAgICAiaHR0cHM6Ly97c30udGlsZS5vcGVuc3RyZWV0bWFwLm9yZy97en0ve3h9L3t5fS5wbmciLAogICAgICAgICAgICAgICAgeyJhdHRyaWJ1dGlvbiI6ICJEYXRhIGJ5IFx1MDAzY2EgaHJlZj1cImh0dHA6Ly9vcGVuc3RyZWV0bWFwLm9yZ1wiXHUwMDNlT3BlblN0cmVldE1hcFx1MDAzYy9hXHUwMDNlLCB1bmRlciBcdTAwM2NhIGhyZWY9XCJodHRwOi8vd3d3Lm9wZW5zdHJlZXRtYXAub3JnL2NvcHlyaWdodFwiXHUwMDNlT0RiTFx1MDAzYy9hXHUwMDNlLiIsICJkZXRlY3RSZXRpbmEiOiBmYWxzZSwgIm1heE5hdGl2ZVpvb20iOiAxOCwgIm1heFpvb20iOiAxOCwgIm1pblpvb20iOiAwLCAibm9XcmFwIjogZmFsc2UsICJvcGFjaXR5IjogMSwgInN1YmRvbWFpbnMiOiAiYWJjIiwgInRtcyI6IGZhbHNlfQogICAgICAgICAgICApLmFkZFRvKG1hcF9hZjlkN2FhNDFkYjQ0NjM0YTdhM2E3YTUxYTczMGIzMik7CiAgICAgICAgCiAgICAKICAgICAgICAgICAgdmFyIGNpcmNsZV9tYXJrZXJfOWUyZDY2MWE1MTBlNDJlYTkxOWU4MzZkZmFiNTI2YTcgPSBMLmNpcmNsZU1hcmtlcigKICAgICAgICAgICAgICAgIFs0My42NTQyNTk5LCAtNzkuMzYwNjM1OV0sCiAgICAgICAgICAgICAgICB7ImJ1YmJsaW5nTW91c2VFdmVudHMiOiB0cnVlLCAiY29sb3IiOiAiI2ZmMDAwMCIsICJkYXNoQXJyYXkiOiBudWxsLCAiZGFzaE9mZnNldCI6IG51bGwsICJmaWxsIjogdHJ1ZSwgImZpbGxDb2xvciI6ICIjZmYwMDAwIiwgImZpbGxPcGFjaXR5IjogMC43LCAiZmlsbFJ1bGUiOiAiZXZlbm9kZCIsICJsaW5lQ2FwIjogInJvdW5kIiwgImxpbmVKb2luIjogInJvdW5kIiwgIm9wYWNpdHkiOiAxLjAsICJyYWRpdXMiOiA1LCAic3Ryb2tlIjogdHJ1ZSwgIndlaWdodCI6IDN9CiAgICAgICAgICAgICkuYWRkVG8obWFwX2FmOWQ3YWE0MWRiNDQ2MzRhN2EzYTdhNTFhNzMwYjMyKTsKICAgICAgICAKICAgIAogICAgICAgIHZhciBwb3B1cF9hNmNmOTIyNWZiMmQ0ZjA5YmUyN2FmYTczM2JiY2M4NCA9IEwucG9wdXAoeyJtYXhXaWR0aCI6ICIxMDAlIn0pOwoKICAgICAgICAKICAgICAgICAgICAgdmFyIGh0bWxfYzgzYWIzMjc3NWQxNDE1MDljMGUxYmU5YzBhZWJkMWUgPSAkKGA8ZGl2IGlkPSJodG1sX2M4M2FiMzI3NzVkMTQxNTA5YzBlMWJlOWMwYWViZDFlIiBzdHlsZT0id2lkdGg6IDEwMC4wJTsgaGVpZ2h0OiAxMDAuMCU7Ij5SZWdlbnQgUGFyayAvIEhhcmJvdXJmcm9udCBDbHVzdGVyIDA8L2Rpdj5gKVswXTsKICAgICAgICAgICAgcG9wdXBfYTZjZjkyMjVmYjJkNGYwOWJlMjdhZmE3MzNiYmNjODQuc2V0Q29udGVudChodG1sX2M4M2FiMzI3NzVkMTQxNTA5YzBlMWJlOWMwYWViZDFlKTsKICAgICAgICAKCiAgICAgICAgY2lyY2xlX21hcmtlcl85ZTJkNjYxYTUxMGU0MmVhOTE5ZTgzNmRmYWI1MjZhNy5iaW5kUG9wdXAocG9wdXBfYTZjZjkyMjVmYjJkNGYwOWJlMjdhZmE3MzNiYmNjODQpCiAgICAgICAgOwoKICAgICAgICAKICAgIAogICAgCiAgICAgICAgICAgIHZhciBjaXJjbGVfbWFya2VyXzI2Y2ZmZWMzOTgwODQ5NDBiNWNjNTVhMmI5YmIzNTRlID0gTC5jaXJjbGVNYXJrZXIoCiAgICAgICAgICAgICAgICBbNDMuNjYyMzAxNSwgLTc5LjM4OTQ5MzhdLAogICAgICAgICAgICAgICAgeyJidWJibGluZ01vdXNlRXZlbnRzIjogdHJ1ZSwgImNvbG9yIjogIiNmZjAwMDAiLCAiZGFzaEFycmF5IjogbnVsbCwgImRhc2hPZmZzZXQiOiBudWxsLCAiZmlsbCI6IHRydWUsICJmaWxsQ29sb3IiOiAiI2ZmMDAwMCIsICJmaWxsT3BhY2l0eSI6IDAuNywgImZpbGxSdWxlIjogImV2ZW5vZGQiLCAibGluZUNhcCI6ICJyb3VuZCIsICJsaW5lSm9pbiI6ICJyb3VuZCIsICJvcGFjaXR5IjogMS4wLCAicmFkaXVzIjogNSwgInN0cm9rZSI6IHRydWUsICJ3ZWlnaHQiOiAzfQogICAgICAgICAgICApLmFkZFRvKG1hcF9hZjlkN2FhNDFkYjQ0NjM0YTdhM2E3YTUxYTczMGIzMik7CiAgICAgICAgCiAgICAKICAgICAgICB2YXIgcG9wdXBfYjJjNTc2MzZkM2I0NDkyMTllMGJmMTZjNWMzZGFhMGYgPSBMLnBvcHVwKHsibWF4V2lkdGgiOiAiMTAwJSJ9KTsKCiAgICAgICAgCiAgICAgICAgICAgIHZhciBodG1sX2VlNWY1M2I5ZGEyNTQ4YmFiMzQ4ZDM0YmExYzM1Zjg2ID0gJChgPGRpdiBpZD0iaHRtbF9lZTVmNTNiOWRhMjU0OGJhYjM0OGQzNGJhMWMzNWY4NiIgc3R5bGU9IndpZHRoOiAxMDAuMCU7IGhlaWdodDogMTAwLjAlOyI+UXVlZW4mIzM5O3MgUGFyayAvIE9udGFyaW8gUHJvdmluY2lhbCBHb3Zlcm5tZW50IENsdXN0ZXIgMDwvZGl2PmApWzBdOwogICAgICAgICAgICBwb3B1cF9iMmM1NzYzNmQzYjQ0OTIxOWUwYmYxNmM1YzNkYWEwZi5zZXRDb250ZW50KGh0bWxfZWU1ZjUzYjlkYTI1NDhiYWIzNDhkMzRiYTFjMzVmODYpOwogICAgICAgIAoKICAgICAgICBjaXJjbGVfbWFya2VyXzI2Y2ZmZWMzOTgwODQ5NDBiNWNjNTVhMmI5YmIzNTRlLmJpbmRQb3B1cChwb3B1cF9iMmM1NzYzNmQzYjQ0OTIxOWUwYmYxNmM1YzNkYWEwZikKICAgICAgICA7CgogICAgICAgIAogICAgCiAgICAKICAgICAgICAgICAgdmFyIGNpcmNsZV9tYXJrZXJfNWFmOWUwYWY2MzhjNGRmM2I5YWUzZTU5OTgwMmZmMWQgPSBMLmNpcmNsZU1hcmtlcigKICAgICAgICAgICAgICAgIFs0My42NTcxNjE4LCAtNzkuMzc4OTM3MDk5OTk5OTldLAogICAgICAgICAgICAgICAgeyJidWJibGluZ01vdXNlRXZlbnRzIjogdHJ1ZSwgImNvbG9yIjogIiNmZjAwMDAiLCAiZGFzaEFycmF5IjogbnVsbCwgImRhc2hPZmZzZXQiOiBudWxsLCAiZmlsbCI6IHRydWUsICJmaWxsQ29sb3IiOiAiI2ZmMDAwMCIsICJmaWxsT3BhY2l0eSI6IDAuNywgImZpbGxSdWxlIjogImV2ZW5vZGQiLCAibGluZUNhcCI6ICJyb3VuZCIsICJsaW5lSm9pbiI6ICJyb3VuZCIsICJvcGFjaXR5IjogMS4wLCAicmFkaXVzIjogNSwgInN0cm9rZSI6IHRydWUsICJ3ZWlnaHQiOiAzfQogICAgICAgICAgICApLmFkZFRvKG1hcF9hZjlkN2FhNDFkYjQ0NjM0YTdhM2E3YTUxYTczMGIzMik7CiAgICAgICAgCiAgICAKICAgICAgICB2YXIgcG9wdXBfYWE4NTYyNDRmYWJiNDM2Mzg1ZTg1YjQyYTBkZGRiZjggPSBMLnBvcHVwKHsibWF4V2lkdGgiOiAiMTAwJSJ9KTsKCiAgICAgICAgCiAgICAgICAgICAgIHZhciBodG1sXzZlYmQyYjRlYTMyYTQ5OTRhZDExZDdkYTU3NjgxZTAxID0gJChgPGRpdiBpZD0iaHRtbF82ZWJkMmI0ZWEzMmE0OTk0YWQxMWQ3ZGE1NzY4MWUwMSIgc3R5bGU9IndpZHRoOiAxMDAuMCU7IGhlaWdodDogMTAwLjAlOyI+R2FyZGVuIERpc3RyaWN0LCBSeWVyc29uIENsdXN0ZXIgMDwvZGl2PmApWzBdOwogICAgICAgICAgICBwb3B1cF9hYTg1NjI0NGZhYmI0MzYzODVlODViNDJhMGRkZGJmOC5zZXRDb250ZW50KGh0bWxfNmViZDJiNGVhMzJhNDk5NGFkMTFkN2RhNTc2ODFlMDEpOwogICAgICAgIAoKICAgICAgICBjaXJjbGVfbWFya2VyXzVhZjllMGFmNjM4YzRkZjNiOWFlM2U1OTk4MDJmZjFkLmJpbmRQb3B1cChwb3B1cF9hYTg1NjI0NGZhYmI0MzYzODVlODViNDJhMGRkZGJmOCkKICAgICAgICA7CgogICAgICAgIAogICAgCiAgICAKICAgICAgICAgICAgdmFyIGNpcmNsZV9tYXJrZXJfMmQ3MmNjM2EyYTQzNGZjOWJhODBjNmRkZThjMWI2Y2QgPSBMLmNpcmNsZU1hcmtlcigKICAgICAgICAgICAgICAgIFs0My42NTE0OTM5LCAtNzkuMzc1NDE3OV0sCiAgICAgICAgICAgICAgICB7ImJ1YmJsaW5nTW91c2VFdmVudHMiOiB0cnVlLCAiY29sb3IiOiAiI2ZmMDAwMCIsICJkYXNoQXJyYXkiOiBudWxsLCAiZGFzaE9mZnNldCI6IG51bGwsICJmaWxsIjogdHJ1ZSwgImZpbGxDb2xvciI6ICIjZmYwMDAwIiwgImZpbGxPcGFjaXR5IjogMC43LCAiZmlsbFJ1bGUiOiAiZXZlbm9kZCIsICJsaW5lQ2FwIjogInJvdW5kIiwgImxpbmVKb2luIjogInJvdW5kIiwgIm9wYWNpdHkiOiAxLjAsICJyYWRpdXMiOiA1LCAic3Ryb2tlIjogdHJ1ZSwgIndlaWdodCI6IDN9CiAgICAgICAgICAgICkuYWRkVG8obWFwX2FmOWQ3YWE0MWRiNDQ2MzRhN2EzYTdhNTFhNzMwYjMyKTsKICAgICAgICAKICAgIAogICAgICAgIHZhciBwb3B1cF9kODM5MDkwMTNhMzk0MTM3OTc1Zjg2OWExYThmOTc4ZiA9IEwucG9wdXAoeyJtYXhXaWR0aCI6ICIxMDAlIn0pOwoKICAgICAgICAKICAgICAgICAgICAgdmFyIGh0bWxfN2Y1OTNlMDU4ZjcyNDIwMjlhMTdlMWNiZjQ4YTNmNDEgPSAkKGA8ZGl2IGlkPSJodG1sXzdmNTkzZTA1OGY3MjQyMDI5YTE3ZTFjYmY0OGEzZjQxIiBzdHlsZT0id2lkdGg6IDEwMC4wJTsgaGVpZ2h0OiAxMDAuMCU7Ij5TdC4gSmFtZXMgVG93biBDbHVzdGVyIDA8L2Rpdj5gKVswXTsKICAgICAgICAgICAgcG9wdXBfZDgzOTA5MDEzYTM5NDEzNzk3NWY4NjlhMWE4Zjk3OGYuc2V0Q29udGVudChodG1sXzdmNTkzZTA1OGY3MjQyMDI5YTE3ZTFjYmY0OGEzZjQxKTsKICAgICAgICAKCiAgICAgICAgY2lyY2xlX21hcmtlcl8yZDcyY2MzYTJhNDM0ZmM5YmE4MGM2ZGRlOGMxYjZjZC5iaW5kUG9wdXAocG9wdXBfZDgzOTA5MDEzYTM5NDEzNzk3NWY4NjlhMWE4Zjk3OGYpCiAgICAgICAgOwoKICAgICAgICAKICAgIAogICAgCiAgICAgICAgICAgIHZhciBjaXJjbGVfbWFya2VyX2E1NzQ5MzkxMGUwMTRiYTc5YzAzMzIxNmM0NDg0YThjID0gTC5jaXJjbGVNYXJrZXIoCiAgICAgICAgICAgICAgICBbNDMuNjc2MzU3Mzk5OTk5OTksIC03OS4yOTMwMzEyXSwKICAgICAgICAgICAgICAgIHsiYnViYmxpbmdNb3VzZUV2ZW50cyI6IHRydWUsICJjb2xvciI6ICIjZmZiMzYwIiwgImRhc2hBcnJheSI6IG51bGwsICJkYXNoT2Zmc2V0IjogbnVsbCwgImZpbGwiOiB0cnVlLCAiZmlsbENvbG9yIjogIiNmZmIzNjAiLCAiZmlsbE9wYWNpdHkiOiAwLjcsICJmaWxsUnVsZSI6ICJldmVub2RkIiwgImxpbmVDYXAiOiAicm91bmQiLCAibGluZUpvaW4iOiAicm91bmQiLCAib3BhY2l0eSI6IDEuMCwgInJhZGl1cyI6IDUsICJzdHJva2UiOiB0cnVlLCAid2VpZ2h0IjogM30KICAgICAgICAgICAgKS5hZGRUbyhtYXBfYWY5ZDdhYTQxZGI0NDYzNGE3YTNhN2E1MWE3MzBiMzIpOwogICAgICAgIAogICAgCiAgICAgICAgdmFyIHBvcHVwXzRiZDI5NTEwNmRhYTQ1NDhiMTNiNzM2OWM1YzgxYTkzID0gTC5wb3B1cCh7Im1heFdpZHRoIjogIjEwMCUifSk7CgogICAgICAgIAogICAgICAgICAgICB2YXIgaHRtbF83NTUwYjA2MGQ3OWI0OGQwYmY3OThmMzM2NzVlMzljOSA9ICQoYDxkaXYgaWQ9Imh0bWxfNzU1MGIwNjBkNzliNDhkMGJmNzk4ZjMzNjc1ZTM5YzkiIHN0eWxlPSJ3aWR0aDogMTAwLjAlOyBoZWlnaHQ6IDEwMC4wJTsiPlRoZSBCZWFjaGVzIENsdXN0ZXIgNDwvZGl2PmApWzBdOwogICAgICAgICAgICBwb3B1cF80YmQyOTUxMDZkYWE0NTQ4YjEzYjczNjljNWM4MWE5My5zZXRDb250ZW50KGh0bWxfNzU1MGIwNjBkNzliNDhkMGJmNzk4ZjMzNjc1ZTM5YzkpOwogICAgICAgIAoKICAgICAgICBjaXJjbGVfbWFya2VyX2E1NzQ5MzkxMGUwMTRiYTc5YzAzMzIxNmM0NDg0YThjLmJpbmRQb3B1cChwb3B1cF80YmQyOTUxMDZkYWE0NTQ4YjEzYjczNjljNWM4MWE5MykKICAgICAgICA7CgogICAgICAgIAogICAgCiAgICAKICAgICAgICAgICAgdmFyIGNpcmNsZV9tYXJrZXJfNGY5YmQ2NTQxYWE5NDExMWEyMTk0NDI5MDNiYmJhZWMgPSBMLmNpcmNsZU1hcmtlcigKICAgICAgICAgICAgICAgIFs0My42NDQ3NzA3OTk5OTk5OTYsIC03OS4zNzMzMDY0XSwKICAgICAgICAgICAgICAgIHsiYnViYmxpbmdNb3VzZUV2ZW50cyI6IHRydWUsICJjb2xvciI6ICIjZmYwMDAwIiwgImRhc2hBcnJheSI6IG51bGwsICJkYXNoT2Zmc2V0IjogbnVsbCwgImZpbGwiOiB0cnVlLCAiZmlsbENvbG9yIjogIiNmZjAwMDAiLCAiZmlsbE9wYWNpdHkiOiAwLjcsICJmaWxsUnVsZSI6ICJldmVub2RkIiwgImxpbmVDYXAiOiAicm91bmQiLCAibGluZUpvaW4iOiAicm91bmQiLCAib3BhY2l0eSI6IDEuMCwgInJhZGl1cyI6IDUsICJzdHJva2UiOiB0cnVlLCAid2VpZ2h0IjogM30KICAgICAgICAgICAgKS5hZGRUbyhtYXBfYWY5ZDdhYTQxZGI0NDYzNGE3YTNhN2E1MWE3MzBiMzIpOwogICAgICAgIAogICAgCiAgICAgICAgdmFyIHBvcHVwXzllYzYxNWJiZjdhODQ5MzE5MzE0ZGYxYmY1NWUzMGZiID0gTC5wb3B1cCh7Im1heFdpZHRoIjogIjEwMCUifSk7CgogICAgICAgIAogICAgICAgICAgICB2YXIgaHRtbF8wNDE0NDVjYTA4NTQ0YWY2OGRmZDgyMTk3NDgxYjZmNiA9ICQoYDxkaXYgaWQ9Imh0bWxfMDQxNDQ1Y2EwODU0NGFmNjhkZmQ4MjE5NzQ4MWI2ZjYiIHN0eWxlPSJ3aWR0aDogMTAwLjAlOyBoZWlnaHQ6IDEwMC4wJTsiPkJlcmN6eSBQYXJrIENsdXN0ZXIgMDwvZGl2PmApWzBdOwogICAgICAgICAgICBwb3B1cF85ZWM2MTViYmY3YTg0OTMxOTMxNGRmMWJmNTVlMzBmYi5zZXRDb250ZW50KGh0bWxfMDQxNDQ1Y2EwODU0NGFmNjhkZmQ4MjE5NzQ4MWI2ZjYpOwogICAgICAgIAoKICAgICAgICBjaXJjbGVfbWFya2VyXzRmOWJkNjU0MWFhOTQxMTFhMjE5NDQyOTAzYmJiYWVjLmJpbmRQb3B1cChwb3B1cF85ZWM2MTViYmY3YTg0OTMxOTMxNGRmMWJmNTVlMzBmYikKICAgICAgICA7CgogICAgICAgIAogICAgCiAgICAKICAgICAgICAgICAgdmFyIGNpcmNsZV9tYXJrZXJfYTAyODk1MjVhZTM2NGM5NmJkNTI0MWNhMzA0Y2VkZWIgPSBMLmNpcmNsZU1hcmtlcigKICAgICAgICAgICAgICAgIFs0My42NTc5NTI0LCAtNzkuMzg3MzgyNl0sCiAgICAgICAgICAgICAgICB7ImJ1YmJsaW5nTW91c2VFdmVudHMiOiB0cnVlLCAiY29sb3IiOiAiI2ZmMDAwMCIsICJkYXNoQXJyYXkiOiBudWxsLCAiZGFzaE9mZnNldCI6IG51bGwsICJmaWxsIjogdHJ1ZSwgImZpbGxDb2xvciI6ICIjZmYwMDAwIiwgImZpbGxPcGFjaXR5IjogMC43LCAiZmlsbFJ1bGUiOiAiZXZlbm9kZCIsICJsaW5lQ2FwIjogInJvdW5kIiwgImxpbmVKb2luIjogInJvdW5kIiwgIm9wYWNpdHkiOiAxLjAsICJyYWRpdXMiOiA1LCAic3Ryb2tlIjogdHJ1ZSwgIndlaWdodCI6IDN9CiAgICAgICAgICAgICkuYWRkVG8obWFwX2FmOWQ3YWE0MWRiNDQ2MzRhN2EzYTdhNTFhNzMwYjMyKTsKICAgICAgICAKICAgIAogICAgICAgIHZhciBwb3B1cF84OGM0OTQ0ZTQ5Nzc0NzM5YjFhZWI4YmM4ZDA4NmQxYSA9IEwucG9wdXAoeyJtYXhXaWR0aCI6ICIxMDAlIn0pOwoKICAgICAgICAKICAgICAgICAgICAgdmFyIGh0bWxfMTQ1YzAzZDJiNzMwNDliY2I1Mzg2YmI1MGQ4NTVhMjkgPSAkKGA8ZGl2IGlkPSJodG1sXzE0NWMwM2QyYjczMDQ5YmNiNTM4NmJiNTBkODU1YTI5IiBzdHlsZT0id2lkdGg6IDEwMC4wJTsgaGVpZ2h0OiAxMDAuMCU7Ij5DZW50cmFsIEJheSBTdHJlZXQgQ2x1c3RlciAwPC9kaXY+YClbMF07CiAgICAgICAgICAgIHBvcHVwXzg4YzQ5NDRlNDk3NzQ3MzliMWFlYjhiYzhkMDg2ZDFhLnNldENvbnRlbnQoaHRtbF8xNDVjMDNkMmI3MzA0OWJjYjUzODZiYjUwZDg1NWEyOSk7CiAgICAgICAgCgogICAgICAgIGNpcmNsZV9tYXJrZXJfYTAyODk1MjVhZTM2NGM5NmJkNTI0MWNhMzA0Y2VkZWIuYmluZFBvcHVwKHBvcHVwXzg4YzQ5NDRlNDk3NzQ3MzliMWFlYjhiYzhkMDg2ZDFhKQogICAgICAgIDsKCiAgICAgICAgCiAgICAKICAgIAogICAgICAgICAgICB2YXIgY2lyY2xlX21hcmtlcl8wNjAzYTM5YTJiNGQ0YjJiOTBjMThmZDcxOTkxNWY1MyA9IEwuY2lyY2xlTWFya2VyKAogICAgICAgICAgICAgICAgWzQzLjY2OTU0MiwgLTc5LjQyMjU2MzddLAogICAgICAgICAgICAgICAgeyJidWJibGluZ01vdXNlRXZlbnRzIjogdHJ1ZSwgImNvbG9yIjogIiM4MGZmYjQiLCAiZGFzaEFycmF5IjogbnVsbCwgImRhc2hPZmZzZXQiOiBudWxsLCAiZmlsbCI6IHRydWUsICJmaWxsQ29sb3IiOiAiIzgwZmZiNCIsICJmaWxsT3BhY2l0eSI6IDAuNywgImZpbGxSdWxlIjogImV2ZW5vZGQiLCAibGluZUNhcCI6ICJyb3VuZCIsICJsaW5lSm9pbiI6ICJyb3VuZCIsICJvcGFjaXR5IjogMS4wLCAicmFkaXVzIjogNSwgInN0cm9rZSI6IHRydWUsICJ3ZWlnaHQiOiAzfQogICAgICAgICAgICApLmFkZFRvKG1hcF9hZjlkN2FhNDFkYjQ0NjM0YTdhM2E3YTUxYTczMGIzMik7CiAgICAgICAgCiAgICAKICAgICAgICB2YXIgcG9wdXBfYTYwY2YwNmU1NDAyNDEwNzhiMmVhMzA0OGFiZjU5NWUgPSBMLnBvcHVwKHsibWF4V2lkdGgiOiAiMTAwJSJ9KTsKCiAgICAgICAgCiAgICAgICAgICAgIHZhciBodG1sX2I0NThjOTViNDNjYTQwZWZiYTBlM2I3NjExNDUzMDNjID0gJChgPGRpdiBpZD0iaHRtbF9iNDU4Yzk1YjQzY2E0MGVmYmEwZTNiNzYxMTQ1MzAzYyIgc3R5bGU9IndpZHRoOiAxMDAuMCU7IGhlaWdodDogMTAwLjAlOyI+Q2hyaXN0aWUgQ2x1c3RlciAzPC9kaXY+YClbMF07CiAgICAgICAgICAgIHBvcHVwX2E2MGNmMDZlNTQwMjQxMDc4YjJlYTMwNDhhYmY1OTVlLnNldENvbnRlbnQoaHRtbF9iNDU4Yzk1YjQzY2E0MGVmYmEwZTNiNzYxMTQ1MzAzYyk7CiAgICAgICAgCgogICAgICAgIGNpcmNsZV9tYXJrZXJfMDYwM2EzOWEyYjRkNGIyYjkwYzE4ZmQ3MTk5MTVmNTMuYmluZFBvcHVwKHBvcHVwX2E2MGNmMDZlNTQwMjQxMDc4YjJlYTMwNDhhYmY1OTVlKQogICAgICAgIDsKCiAgICAgICAgCiAgICAKICAgIAogICAgICAgICAgICB2YXIgY2lyY2xlX21hcmtlcl9lOTBkZjlkYzM3M2M0YzM4ODMxMDM4YmU2Y2QwZTNkMCA9IEwuY2lyY2xlTWFya2VyKAogICAgICAgICAgICAgICAgWzQzLjY1MDU3MTIwMDAwMDAxLCAtNzkuMzg0NTY3NV0sCiAgICAgICAgICAgICAgICB7ImJ1YmJsaW5nTW91c2VFdmVudHMiOiB0cnVlLCAiY29sb3IiOiAiI2ZmMDAwMCIsICJkYXNoQXJyYXkiOiBudWxsLCAiZGFzaE9mZnNldCI6IG51bGwsICJmaWxsIjogdHJ1ZSwgImZpbGxDb2xvciI6ICIjZmYwMDAwIiwgImZpbGxPcGFjaXR5IjogMC43LCAiZmlsbFJ1bGUiOiAiZXZlbm9kZCIsICJsaW5lQ2FwIjogInJvdW5kIiwgImxpbmVKb2luIjogInJvdW5kIiwgIm9wYWNpdHkiOiAxLjAsICJyYWRpdXMiOiA1LCAic3Ryb2tlIjogdHJ1ZSwgIndlaWdodCI6IDN9CiAgICAgICAgICAgICkuYWRkVG8obWFwX2FmOWQ3YWE0MWRiNDQ2MzRhN2EzYTdhNTFhNzMwYjMyKTsKICAgICAgICAKICAgIAogICAgICAgIHZhciBwb3B1cF8yMTFlZDdkZDkwODk0M2VkOWM5Zjk3NjA0ZTFjMjZlYyA9IEwucG9wdXAoeyJtYXhXaWR0aCI6ICIxMDAlIn0pOwoKICAgICAgICAKICAgICAgICAgICAgdmFyIGh0bWxfYjQyZmE1N2RmN2I3NDM3YWE4Y2YxODhjZjdiNTVjZmYgPSAkKGA8ZGl2IGlkPSJodG1sX2I0MmZhNTdkZjdiNzQzN2FhOGNmMTg4Y2Y3YjU1Y2ZmIiBzdHlsZT0id2lkdGg6IDEwMC4wJTsgaGVpZ2h0OiAxMDAuMCU7Ij5SaWNobW9uZCAvIEFkZWxhaWRlIC8gS2luZyBDbHVzdGVyIDA8L2Rpdj5gKVswXTsKICAgICAgICAgICAgcG9wdXBfMjExZWQ3ZGQ5MDg5NDNlZDljOWY5NzYwNGUxYzI2ZWMuc2V0Q29udGVudChodG1sX2I0MmZhNTdkZjdiNzQzN2FhOGNmMTg4Y2Y3YjU1Y2ZmKTsKICAgICAgICAKCiAgICAgICAgY2lyY2xlX21hcmtlcl9lOTBkZjlkYzM3M2M0YzM4ODMxMDM4YmU2Y2QwZTNkMC5iaW5kUG9wdXAocG9wdXBfMjExZWQ3ZGQ5MDg5NDNlZDljOWY5NzYwNGUxYzI2ZWMpCiAgICAgICAgOwoKICAgICAgICAKICAgIAogICAgCiAgICAgICAgICAgIHZhciBjaXJjbGVfbWFya2VyXzIzNzc3MTBmMmJkMTRkMmQ4OGQ2MjA2NGMwYjExMDljID0gTC5jaXJjbGVNYXJrZXIoCiAgICAgICAgICAgICAgICBbNDMuNjY5MDA1MTAwMDAwMDEsIC03OS40NDIyNTkzXSwKICAgICAgICAgICAgICAgIHsiYnViYmxpbmdNb3VzZUV2ZW50cyI6IHRydWUsICJjb2xvciI6ICIjODAwMGZmIiwgImRhc2hBcnJheSI6IG51bGwsICJkYXNoT2Zmc2V0IjogbnVsbCwgImZpbGwiOiB0cnVlLCAiZmlsbENvbG9yIjogIiM4MDAwZmYiLCAiZmlsbE9wYWNpdHkiOiAwLjcsICJmaWxsUnVsZSI6ICJldmVub2RkIiwgImxpbmVDYXAiOiAicm91bmQiLCAibGluZUpvaW4iOiAicm91bmQiLCAib3BhY2l0eSI6IDEuMCwgInJhZGl1cyI6IDUsICJzdHJva2UiOiB0cnVlLCAid2VpZ2h0IjogM30KICAgICAgICAgICAgKS5hZGRUbyhtYXBfYWY5ZDdhYTQxZGI0NDYzNGE3YTNhN2E1MWE3MzBiMzIpOwogICAgICAgIAogICAgCiAgICAgICAgdmFyIHBvcHVwXzYyYTAxMzE0NjZkOTRiMmNiYWRjZTc1NGI4MmFlY2ZmID0gTC5wb3B1cCh7Im1heFdpZHRoIjogIjEwMCUifSk7CgogICAgICAgIAogICAgICAgICAgICB2YXIgaHRtbF80Y2EwYWIwZmE1ZGM0NDZhOWYyYWI1NThjMDEyZmEzNSA9ICQoYDxkaXYgaWQ9Imh0bWxfNGNhMGFiMGZhNWRjNDQ2YTlmMmFiNTU4YzAxMmZhMzUiIHN0eWxlPSJ3aWR0aDogMTAwLjAlOyBoZWlnaHQ6IDEwMC4wJTsiPkR1ZmZlcmluIC8gRG92ZXJjb3VydCBWaWxsYWdlIENsdXN0ZXIgMTwvZGl2PmApWzBdOwogICAgICAgICAgICBwb3B1cF82MmEwMTMxNDY2ZDk0YjJjYmFkY2U3NTRiODJhZWNmZi5zZXRDb250ZW50KGh0bWxfNGNhMGFiMGZhNWRjNDQ2YTlmMmFiNTU4YzAxMmZhMzUpOwogICAgICAgIAoKICAgICAgICBjaXJjbGVfbWFya2VyXzIzNzc3MTBmMmJkMTRkMmQ4OGQ2MjA2NGMwYjExMDljLmJpbmRQb3B1cChwb3B1cF82MmEwMTMxNDY2ZDk0YjJjYmFkY2U3NTRiODJhZWNmZikKICAgICAgICA7CgogICAgICAgIAogICAgCiAgICAKICAgICAgICAgICAgdmFyIGNpcmNsZV9tYXJrZXJfOGJiN2IyNzMyYzJmNGEyYWEyODU1NmFhNTM1Y2FjMjIgPSBMLmNpcmNsZU1hcmtlcigKICAgICAgICAgICAgICAgIFs0My42NDA4MTU3LCAtNzkuMzgxNzUyMjk5OTk5OTldLAogICAgICAgICAgICAgICAgeyJidWJibGluZ01vdXNlRXZlbnRzIjogdHJ1ZSwgImNvbG9yIjogIiNmZjAwMDAiLCAiZGFzaEFycmF5IjogbnVsbCwgImRhc2hPZmZzZXQiOiBudWxsLCAiZmlsbCI6IHRydWUsICJmaWxsQ29sb3IiOiAiI2ZmMDAwMCIsICJmaWxsT3BhY2l0eSI6IDAuNywgImZpbGxSdWxlIjogImV2ZW5vZGQiLCAibGluZUNhcCI6ICJyb3VuZCIsICJsaW5lSm9pbiI6ICJyb3VuZCIsICJvcGFjaXR5IjogMS4wLCAicmFkaXVzIjogNSwgInN0cm9rZSI6IHRydWUsICJ3ZWlnaHQiOiAzfQogICAgICAgICAgICApLmFkZFRvKG1hcF9hZjlkN2FhNDFkYjQ0NjM0YTdhM2E3YTUxYTczMGIzMik7CiAgICAgICAgCiAgICAKICAgICAgICB2YXIgcG9wdXBfNzhkNjUwZjViNjJlNDU2OWEyNjI2YzA3OGRhMmNjYWIgPSBMLnBvcHVwKHsibWF4V2lkdGgiOiAiMTAwJSJ9KTsKCiAgICAgICAgCiAgICAgICAgICAgIHZhciBodG1sX2MyYzk1NTczZWE4YjQzNGZhN2FjNDlhM2RkY2I4NjMyID0gJChgPGRpdiBpZD0iaHRtbF9jMmM5NTU3M2VhOGI0MzRmYTdhYzQ5YTNkZGNiODYzMiIgc3R5bGU9IndpZHRoOiAxMDAuMCU7IGhlaWdodDogMTAwLjAlOyI+SGFyYm91cmZyb250IEVhc3QgLyBVbmlvbiBTdGF0aW9uIC8gVG9yb250byBJc2xhbmRzIENsdXN0ZXIgMDwvZGl2PmApWzBdOwogICAgICAgICAgICBwb3B1cF83OGQ2NTBmNWI2MmU0NTY5YTI2MjZjMDc4ZGEyY2NhYi5zZXRDb250ZW50KGh0bWxfYzJjOTU1NzNlYThiNDM0ZmE3YWM0OWEzZGRjYjg2MzIpOwogICAgICAgIAoKICAgICAgICBjaXJjbGVfbWFya2VyXzhiYjdiMjczMmMyZjRhMmFhMjg1NTZhYTUzNWNhYzIyLmJpbmRQb3B1cChwb3B1cF83OGQ2NTBmNWI2MmU0NTY5YTI2MjZjMDc4ZGEyY2NhYikKICAgICAgICA7CgogICAgICAgIAogICAgCiAgICAKICAgICAgICAgICAgdmFyIGNpcmNsZV9tYXJrZXJfZWQ1NDk0MDA0YmViNDQyNGJhN2NkNTUwYTQ4NGY0MWMgPSBMLmNpcmNsZU1hcmtlcigKICAgICAgICAgICAgICAgIFs0My42NDc5MjY3MDAwMDAwMDYsIC03OS40MTk3NDk3XSwKICAgICAgICAgICAgICAgIHsiYnViYmxpbmdNb3VzZUV2ZW50cyI6IHRydWUsICJjb2xvciI6ICIjODBmZmI0IiwgImRhc2hBcnJheSI6IG51bGwsICJkYXNoT2Zmc2V0IjogbnVsbCwgImZpbGwiOiB0cnVlLCAiZmlsbENvbG9yIjogIiM4MGZmYjQiLCAiZmlsbE9wYWNpdHkiOiAwLjcsICJmaWxsUnVsZSI6ICJldmVub2RkIiwgImxpbmVDYXAiOiAicm91bmQiLCAibGluZUpvaW4iOiAicm91bmQiLCAib3BhY2l0eSI6IDEuMCwgInJhZGl1cyI6IDUsICJzdHJva2UiOiB0cnVlLCAid2VpZ2h0IjogM30KICAgICAgICAgICAgKS5hZGRUbyhtYXBfYWY5ZDdhYTQxZGI0NDYzNGE3YTNhN2E1MWE3MzBiMzIpOwogICAgICAgIAogICAgCiAgICAgICAgdmFyIHBvcHVwX2EwNWMxZTU0OTIyNDQzMGFhNzMzY2M2NDFmZTAyYTcyID0gTC5wb3B1cCh7Im1heFdpZHRoIjogIjEwMCUifSk7CgogICAgICAgIAogICAgICAgICAgICB2YXIgaHRtbF8wMmMzZTA1MzU3Yzc0M2I4ODg3MzQyMjRmZDk3MmZhZiA9ICQoYDxkaXYgaWQ9Imh0bWxfMDJjM2UwNTM1N2M3NDNiODg4NzM0MjI0ZmQ5NzJmYWYiIHN0eWxlPSJ3aWR0aDogMTAwLjAlOyBoZWlnaHQ6IDEwMC4wJTsiPkxpdHRsZSBQb3J0dWdhbCAvIFRyaW5pdHkgQ2x1c3RlciAzPC9kaXY+YClbMF07CiAgICAgICAgICAgIHBvcHVwX2EwNWMxZTU0OTIyNDQzMGFhNzMzY2M2NDFmZTAyYTcyLnNldENvbnRlbnQoaHRtbF8wMmMzZTA1MzU3Yzc0M2I4ODg3MzQyMjRmZDk3MmZhZik7CiAgICAgICAgCgogICAgICAgIGNpcmNsZV9tYXJrZXJfZWQ1NDk0MDA0YmViNDQyNGJhN2NkNTUwYTQ4NGY0MWMuYmluZFBvcHVwKHBvcHVwX2EwNWMxZTU0OTIyNDQzMGFhNzMzY2M2NDFmZTAyYTcyKQogICAgICAgIDsKCiAgICAgICAgCiAgICAKICAgIAogICAgICAgICAgICB2YXIgY2lyY2xlX21hcmtlcl9lN2I4MDQ1ZGE2YjI0MTJhYWNkYjM3NDk5ODdlNzNmNyA9IEwuY2lyY2xlTWFya2VyKAogICAgICAgICAgICAgICAgWzQzLjY3OTU1NzEsIC03OS4zNTIxODhdLAogICAgICAgICAgICAgICAgeyJidWJibGluZ01vdXNlRXZlbnRzIjogdHJ1ZSwgImNvbG9yIjogIiNmZmIzNjAiLCAiZGFzaEFycmF5IjogbnVsbCwgImRhc2hPZmZzZXQiOiBudWxsLCAiZmlsbCI6IHRydWUsICJmaWxsQ29sb3IiOiAiI2ZmYjM2MCIsICJmaWxsT3BhY2l0eSI6IDAuNywgImZpbGxSdWxlIjogImV2ZW5vZGQiLCAibGluZUNhcCI6ICJyb3VuZCIsICJsaW5lSm9pbiI6ICJyb3VuZCIsICJvcGFjaXR5IjogMS4wLCAicmFkaXVzIjogNSwgInN0cm9rZSI6IHRydWUsICJ3ZWlnaHQiOiAzfQogICAgICAgICAgICApLmFkZFRvKG1hcF9hZjlkN2FhNDFkYjQ0NjM0YTdhM2E3YTUxYTczMGIzMik7CiAgICAgICAgCiAgICAKICAgICAgICB2YXIgcG9wdXBfNjgzMTgzNDJkYjkxNDRmOWI2MDc5MGU1ODM0NTI0ZTcgPSBMLnBvcHVwKHsibWF4V2lkdGgiOiAiMTAwJSJ9KTsKCiAgICAgICAgCiAgICAgICAgICAgIHZhciBodG1sX2EzYjIzYTU1MjdjNzRjNjNiMjRlODQ2ZTVlY2FkMTBiID0gJChgPGRpdiBpZD0iaHRtbF9hM2IyM2E1NTI3Yzc0YzYzYjI0ZTg0NmU1ZWNhZDEwYiIgc3R5bGU9IndpZHRoOiAxMDAuMCU7IGhlaWdodDogMTAwLjAlOyI+VGhlIERhbmZvcnRoIFdlc3QgLyBSaXZlcmRhbGUgQ2x1c3RlciA0PC9kaXY+YClbMF07CiAgICAgICAgICAgIHBvcHVwXzY4MzE4MzQyZGI5MTQ0ZjliNjA3OTBlNTgzNDUyNGU3LnNldENvbnRlbnQoaHRtbF9hM2IyM2E1NTI3Yzc0YzYzYjI0ZTg0NmU1ZWNhZDEwYik7CiAgICAgICAgCgogICAgICAgIGNpcmNsZV9tYXJrZXJfZTdiODA0NWRhNmIyNDEyYWFjZGIzNzQ5OTg3ZTczZjcuYmluZFBvcHVwKHBvcHVwXzY4MzE4MzQyZGI5MTQ0ZjliNjA3OTBlNTgzNDUyNGU3KQogICAgICAgIDsKCiAgICAgICAgCiAgICAKICAgIAogICAgICAgICAgICB2YXIgY2lyY2xlX21hcmtlcl8zNmQwZTk0ZjYwYTU0YjUwOTA0YTc1MmQxOTAyZTQwZCA9IEwuY2lyY2xlTWFya2VyKAogICAgICAgICAgICAgICAgWzQzLjY0NzE3NjgsIC03OS4zODE1NzY0MDAwMDAwMV0sCiAgICAgICAgICAgICAgICB7ImJ1YmJsaW5nTW91c2VFdmVudHMiOiB0cnVlLCAiY29sb3IiOiAiI2ZmMDAwMCIsICJkYXNoQXJyYXkiOiBudWxsLCAiZGFzaE9mZnNldCI6IG51bGwsICJmaWxsIjogdHJ1ZSwgImZpbGxDb2xvciI6ICIjZmYwMDAwIiwgImZpbGxPcGFjaXR5IjogMC43LCAiZmlsbFJ1bGUiOiAiZXZlbm9kZCIsICJsaW5lQ2FwIjogInJvdW5kIiwgImxpbmVKb2luIjogInJvdW5kIiwgIm9wYWNpdHkiOiAxLjAsICJyYWRpdXMiOiA1LCAic3Ryb2tlIjogdHJ1ZSwgIndlaWdodCI6IDN9CiAgICAgICAgICAgICkuYWRkVG8obWFwX2FmOWQ3YWE0MWRiNDQ2MzRhN2EzYTdhNTFhNzMwYjMyKTsKICAgICAgICAKICAgIAogICAgICAgIHZhciBwb3B1cF80NzE4Y2Y1YjNiZjU0MzE4ODdmODlhNGQ5Y2RlNjU4OSA9IEwucG9wdXAoeyJtYXhXaWR0aCI6ICIxMDAlIn0pOwoKICAgICAgICAKICAgICAgICAgICAgdmFyIGh0bWxfNTA4ZTRjOWZmNGM0NGM2OWJkNDVjMjZhMDc0MWVjYzYgPSAkKGA8ZGl2IGlkPSJodG1sXzUwOGU0YzlmZjRjNDRjNjliZDQ1YzI2YTA3NDFlY2M2IiBzdHlsZT0id2lkdGg6IDEwMC4wJTsgaGVpZ2h0OiAxMDAuMCU7Ij5Ub3JvbnRvIERvbWluaW9uIENlbnRyZSAvIERlc2lnbiBFeGNoYW5nZSBDbHVzdGVyIDA8L2Rpdj5gKVswXTsKICAgICAgICAgICAgcG9wdXBfNDcxOGNmNWIzYmY1NDMxODg3Zjg5YTRkOWNkZTY1ODkuc2V0Q29udGVudChodG1sXzUwOGU0YzlmZjRjNDRjNjliZDQ1YzI2YTA3NDFlY2M2KTsKICAgICAgICAKCiAgICAgICAgY2lyY2xlX21hcmtlcl8zNmQwZTk0ZjYwYTU0YjUwOTA0YTc1MmQxOTAyZTQwZC5iaW5kUG9wdXAocG9wdXBfNDcxOGNmNWIzYmY1NDMxODg3Zjg5YTRkOWNkZTY1ODkpCiAgICAgICAgOwoKICAgICAgICAKICAgIAogICAgCiAgICAgICAgICAgIHZhciBjaXJjbGVfbWFya2VyX2FhMDEwZGIyZGFiYTRjZjZiNTVhOGNlZmMyZTc2NzU2ID0gTC5jaXJjbGVNYXJrZXIoCiAgICAgICAgICAgICAgICBbNDMuNjM2ODQ3MiwgLTc5LjQyODE5MTQwMDAwMDAyXSwKICAgICAgICAgICAgICAgIHsiYnViYmxpbmdNb3VzZUV2ZW50cyI6IHRydWUsICJjb2xvciI6ICIjODBmZmI0IiwgImRhc2hBcnJheSI6IG51bGwsICJkYXNoT2Zmc2V0IjogbnVsbCwgImZpbGwiOiB0cnVlLCAiZmlsbENvbG9yIjogIiM4MGZmYjQiLCAiZmlsbE9wYWNpdHkiOiAwLjcsICJmaWxsUnVsZSI6ICJldmVub2RkIiwgImxpbmVDYXAiOiAicm91bmQiLCAibGluZUpvaW4iOiAicm91bmQiLCAib3BhY2l0eSI6IDEuMCwgInJhZGl1cyI6IDUsICJzdHJva2UiOiB0cnVlLCAid2VpZ2h0IjogM30KICAgICAgICAgICAgKS5hZGRUbyhtYXBfYWY5ZDdhYTQxZGI0NDYzNGE3YTNhN2E1MWE3MzBiMzIpOwogICAgICAgIAogICAgCiAgICAgICAgdmFyIHBvcHVwXzMyYjM0MjcxYjgzNjQ2MjI5ZjQ1NTAzNzI2MDM5NjkyID0gTC5wb3B1cCh7Im1heFdpZHRoIjogIjEwMCUifSk7CgogICAgICAgIAogICAgICAgICAgICB2YXIgaHRtbF80ZjQwODJiYjkwMWU0MDEzOTc2NGVlZTUxNDM3ZjA1YSA9ICQoYDxkaXYgaWQ9Imh0bWxfNGY0MDgyYmI5MDFlNDAxMzk3NjRlZWU1MTQzN2YwNWEiIHN0eWxlPSJ3aWR0aDogMTAwLjAlOyBoZWlnaHQ6IDEwMC4wJTsiPkJyb2NrdG9uIC8gUGFya2RhbGUgVmlsbGFnZSAvIEV4aGliaXRpb24gUGxhY2UgQ2x1c3RlciAzPC9kaXY+YClbMF07CiAgICAgICAgICAgIHBvcHVwXzMyYjM0MjcxYjgzNjQ2MjI5ZjQ1NTAzNzI2MDM5NjkyLnNldENvbnRlbnQoaHRtbF80ZjQwODJiYjkwMWU0MDEzOTc2NGVlZTUxNDM3ZjA1YSk7CiAgICAgICAgCgogICAgICAgIGNpcmNsZV9tYXJrZXJfYWEwMTBkYjJkYWJhNGNmNmI1NWE4Y2VmYzJlNzY3NTYuYmluZFBvcHVwKHBvcHVwXzMyYjM0MjcxYjgzNjQ2MjI5ZjQ1NTAzNzI2MDM5NjkyKQogICAgICAgIDsKCiAgICAgICAgCiAgICAKICAgIAogICAgICAgICAgICB2YXIgY2lyY2xlX21hcmtlcl9hNmNlNGYzNDU4YzU0OWFkYWRiZGJlNDhmZmY4MWYxZSA9IEwuY2lyY2xlTWFya2VyKAogICAgICAgICAgICAgICAgWzQzLjY2ODk5ODUsIC03OS4zMTU1NzE1OTk5OTk5OF0sCiAgICAgICAgICAgICAgICB7ImJ1YmJsaW5nTW91c2VFdmVudHMiOiB0cnVlLCAiY29sb3IiOiAiI2ZmYjM2MCIsICJkYXNoQXJyYXkiOiBudWxsLCAiZGFzaE9mZnNldCI6IG51bGwsICJmaWxsIjogdHJ1ZSwgImZpbGxDb2xvciI6ICIjZmZiMzYwIiwgImZpbGxPcGFjaXR5IjogMC43LCAiZmlsbFJ1bGUiOiAiZXZlbm9kZCIsICJsaW5lQ2FwIjogInJvdW5kIiwgImxpbmVKb2luIjogInJvdW5kIiwgIm9wYWNpdHkiOiAxLjAsICJyYWRpdXMiOiA1LCAic3Ryb2tlIjogdHJ1ZSwgIndlaWdodCI6IDN9CiAgICAgICAgICAgICkuYWRkVG8obWFwX2FmOWQ3YWE0MWRiNDQ2MzRhN2EzYTdhNTFhNzMwYjMyKTsKICAgICAgICAKICAgIAogICAgICAgIHZhciBwb3B1cF8xZjEyODgzZTg5NjM0NGM1OTJhNWExNjA1YjNhNDI2OSA9IEwucG9wdXAoeyJtYXhXaWR0aCI6ICIxMDAlIn0pOwoKICAgICAgICAKICAgICAgICAgICAgdmFyIGh0bWxfZTgyMjBlM2EzMjEyNGJmYzhkYmFmNWU3ZTM5OTJkNDcgPSAkKGA8ZGl2IGlkPSJodG1sX2U4MjIwZTNhMzIxMjRiZmM4ZGJhZjVlN2UzOTkyZDQ3IiBzdHlsZT0id2lkdGg6IDEwMC4wJTsgaGVpZ2h0OiAxMDAuMCU7Ij5JbmRpYSBCYXphYXIgLyBUaGUgQmVhY2hlcyBXZXN0IENsdXN0ZXIgNDwvZGl2PmApWzBdOwogICAgICAgICAgICBwb3B1cF8xZjEyODgzZTg5NjM0NGM1OTJhNWExNjA1YjNhNDI2OS5zZXRDb250ZW50KGh0bWxfZTgyMjBlM2EzMjEyNGJmYzhkYmFmNWU3ZTM5OTJkNDcpOwogICAgICAgIAoKICAgICAgICBjaXJjbGVfbWFya2VyX2E2Y2U0ZjM0NThjNTQ5YWRhZGJkYmU0OGZmZjgxZjFlLmJpbmRQb3B1cChwb3B1cF8xZjEyODgzZTg5NjM0NGM1OTJhNWExNjA1YjNhNDI2OSkKICAgICAgICA7CgogICAgICAgIAogICAgCiAgICAKICAgICAgICAgICAgdmFyIGNpcmNsZV9tYXJrZXJfNjAxYWMzMDUxODk0NDZiNzkyMTE1NjBkZjE5M2M5ZDQgPSBMLmNpcmNsZU1hcmtlcigKICAgICAgICAgICAgICAgIFs0My42NDgxOTg1LCAtNzkuMzc5ODE2OTAwMDAwMDFdLAogICAgICAgICAgICAgICAgeyJidWJibGluZ01vdXNlRXZlbnRzIjogdHJ1ZSwgImNvbG9yIjogIiNmZjAwMDAiLCAiZGFzaEFycmF5IjogbnVsbCwgImRhc2hPZmZzZXQiOiBudWxsLCAiZmlsbCI6IHRydWUsICJmaWxsQ29sb3IiOiAiI2ZmMDAwMCIsICJmaWxsT3BhY2l0eSI6IDAuNywgImZpbGxSdWxlIjogImV2ZW5vZGQiLCAibGluZUNhcCI6ICJyb3VuZCIsICJsaW5lSm9pbiI6ICJyb3VuZCIsICJvcGFjaXR5IjogMS4wLCAicmFkaXVzIjogNSwgInN0cm9rZSI6IHRydWUsICJ3ZWlnaHQiOiAzfQogICAgICAgICAgICApLmFkZFRvKG1hcF9hZjlkN2FhNDFkYjQ0NjM0YTdhM2E3YTUxYTczMGIzMik7CiAgICAgICAgCiAgICAKICAgICAgICB2YXIgcG9wdXBfYmE2NDFjNmI0MDIxNDYzYzlmNWUxODRlODVhNGQ2MjkgPSBMLnBvcHVwKHsibWF4V2lkdGgiOiAiMTAwJSJ9KTsKCiAgICAgICAgCiAgICAgICAgICAgIHZhciBodG1sX2YwZDMxMGE0MjkxMjQ2OTg5ZTgxYzA0NWViZmRhNDk5ID0gJChgPGRpdiBpZD0iaHRtbF9mMGQzMTBhNDI5MTI0Njk4OWU4MWMwNDVlYmZkYTQ5OSIgc3R5bGU9IndpZHRoOiAxMDAuMCU7IGhlaWdodDogMTAwLjAlOyI+Q29tbWVyY2UgQ291cnQgLyBWaWN0b3JpYSBIb3RlbCBDbHVzdGVyIDA8L2Rpdj5gKVswXTsKICAgICAgICAgICAgcG9wdXBfYmE2NDFjNmI0MDIxNDYzYzlmNWUxODRlODVhNGQ2Mjkuc2V0Q29udGVudChodG1sX2YwZDMxMGE0MjkxMjQ2OTg5ZTgxYzA0NWViZmRhNDk5KTsKICAgICAgICAKCiAgICAgICAgY2lyY2xlX21hcmtlcl82MDFhYzMwNTE4OTQ0NmI3OTIxMTU2MGRmMTkzYzlkNC5iaW5kUG9wdXAocG9wdXBfYmE2NDFjNmI0MDIxNDYzYzlmNWUxODRlODVhNGQ2MjkpCiAgICAgICAgOwoKICAgICAgICAKICAgIAogICAgCiAgICAgICAgICAgIHZhciBjaXJjbGVfbWFya2VyX2Y3ODcwYTNhMjljMDRlOGI4NTAyNzEyZjBhMmRiMjExID0gTC5jaXJjbGVNYXJrZXIoCiAgICAgICAgICAgICAgICBbNDMuNjU5NTI1NSwgLTc5LjM0MDkyM10sCiAgICAgICAgICAgICAgICB7ImJ1YmJsaW5nTW91c2VFdmVudHMiOiB0cnVlLCAiY29sb3IiOiAiI2ZmYjM2MCIsICJkYXNoQXJyYXkiOiBudWxsLCAiZGFzaE9mZnNldCI6IG51bGwsICJmaWxsIjogdHJ1ZSwgImZpbGxDb2xvciI6ICIjZmZiMzYwIiwgImZpbGxPcGFjaXR5IjogMC43LCAiZmlsbFJ1bGUiOiAiZXZlbm9kZCIsICJsaW5lQ2FwIjogInJvdW5kIiwgImxpbmVKb2luIjogInJvdW5kIiwgIm9wYWNpdHkiOiAxLjAsICJyYWRpdXMiOiA1LCAic3Ryb2tlIjogdHJ1ZSwgIndlaWdodCI6IDN9CiAgICAgICAgICAgICkuYWRkVG8obWFwX2FmOWQ3YWE0MWRiNDQ2MzRhN2EzYTdhNTFhNzMwYjMyKTsKICAgICAgICAKICAgIAogICAgICAgIHZhciBwb3B1cF85ZDA0MmUwZGY1MzM0ZmFmYjczNzI1NTg4MDhlZTdiNyA9IEwucG9wdXAoeyJtYXhXaWR0aCI6ICIxMDAlIn0pOwoKICAgICAgICAKICAgICAgICAgICAgdmFyIGh0bWxfODA4ZDdkYmRkNjBkNDIwMWEyOGY3MTUxZGQ2NDI1MGUgPSAkKGA8ZGl2IGlkPSJodG1sXzgwOGQ3ZGJkZDYwZDQyMDFhMjhmNzE1MWRkNjQyNTBlIiBzdHlsZT0id2lkdGg6IDEwMC4wJTsgaGVpZ2h0OiAxMDAuMCU7Ij5TdHVkaW8gRGlzdHJpY3QgQ2x1c3RlciA0PC9kaXY+YClbMF07CiAgICAgICAgICAgIHBvcHVwXzlkMDQyZTBkZjUzMzRmYWZiNzM3MjU1ODgwOGVlN2I3LnNldENvbnRlbnQoaHRtbF84MDhkN2RiZGQ2MGQ0MjAxYTI4ZjcxNTFkZDY0MjUwZSk7CiAgICAgICAgCgogICAgICAgIGNpcmNsZV9tYXJrZXJfZjc4NzBhM2EyOWMwNGU4Yjg1MDI3MTJmMGEyZGIyMTEuYmluZFBvcHVwKHBvcHVwXzlkMDQyZTBkZjUzMzRmYWZiNzM3MjU1ODgwOGVlN2I3KQogICAgICAgIDsKCiAgICAgICAgCiAgICAKICAgIAogICAgICAgICAgICB2YXIgY2lyY2xlX21hcmtlcl84MTY2OGI5MmI0OTA0YjAzOTE5ZWZiMTAwMTdiMWYyYSA9IEwuY2lyY2xlTWFya2VyKAogICAgICAgICAgICAgICAgWzQzLjcyODAyMDUsIC03OS4zODg3OTAxXSwKICAgICAgICAgICAgICAgIHsiYnViYmxpbmdNb3VzZUV2ZW50cyI6IHRydWUsICJjb2xvciI6ICIjMDBiNWViIiwgImRhc2hBcnJheSI6IG51bGwsICJkYXNoT2Zmc2V0IjogbnVsbCwgImZpbGwiOiB0cnVlLCAiZmlsbENvbG9yIjogIiMwMGI1ZWIiLCAiZmlsbE9wYWNpdHkiOiAwLjcsICJmaWxsUnVsZSI6ICJldmVub2RkIiwgImxpbmVDYXAiOiAicm91bmQiLCAibGluZUpvaW4iOiAicm91bmQiLCAib3BhY2l0eSI6IDEuMCwgInJhZGl1cyI6IDUsICJzdHJva2UiOiB0cnVlLCAid2VpZ2h0IjogM30KICAgICAgICAgICAgKS5hZGRUbyhtYXBfYWY5ZDdhYTQxZGI0NDYzNGE3YTNhN2E1MWE3MzBiMzIpOwogICAgICAgIAogICAgCiAgICAgICAgdmFyIHBvcHVwXzgyYjliZjU1MjYxYzRkYTlhNDdiNmNiZDMxOWRiMThjID0gTC5wb3B1cCh7Im1heFdpZHRoIjogIjEwMCUifSk7CgogICAgICAgIAogICAgICAgICAgICB2YXIgaHRtbF9mOGFkZWMzMmRkMjM0YzNkOTk1MTVlYWUwNWNiY2Y1MiA9ICQoYDxkaXYgaWQ9Imh0bWxfZjhhZGVjMzJkZDIzNGMzZDk5NTE1ZWFlMDVjYmNmNTIiIHN0eWxlPSJ3aWR0aDogMTAwLjAlOyBoZWlnaHQ6IDEwMC4wJTsiPkxhd3JlbmNlIFBhcmsgQ2x1c3RlciAyPC9kaXY+YClbMF07CiAgICAgICAgICAgIHBvcHVwXzgyYjliZjU1MjYxYzRkYTlhNDdiNmNiZDMxOWRiMThjLnNldENvbnRlbnQoaHRtbF9mOGFkZWMzMmRkMjM0YzNkOTk1MTVlYWUwNWNiY2Y1Mik7CiAgICAgICAgCgogICAgICAgIGNpcmNsZV9tYXJrZXJfODE2NjhiOTJiNDkwNGIwMzkxOWVmYjEwMDE3YjFmMmEuYmluZFBvcHVwKHBvcHVwXzgyYjliZjU1MjYxYzRkYTlhNDdiNmNiZDMxOWRiMThjKQogICAgICAgIDsKCiAgICAgICAgCiAgICAKICAgIAogICAgICAgICAgICB2YXIgY2lyY2xlX21hcmtlcl8wNTE1ODIzMzFlYmM0ZGJmYjUyNzk2NGY4YjhlZTA4NiA9IEwuY2lyY2xlTWFya2VyKAogICAgICAgICAgICAgICAgWzQzLjcxMTY5NDgsIC03OS40MTY5MzU1OTk5OTk5OV0sCiAgICAgICAgICAgICAgICB7ImJ1YmJsaW5nTW91c2VFdmVudHMiOiB0cnVlLCAiY29sb3IiOiAiIzAwYjVlYiIsICJkYXNoQXJyYXkiOiBudWxsLCAiZGFzaE9mZnNldCI6IG51bGwsICJmaWxsIjogdHJ1ZSwgImZpbGxDb2xvciI6ICIjMDBiNWViIiwgImZpbGxPcGFjaXR5IjogMC43LCAiZmlsbFJ1bGUiOiAiZXZlbm9kZCIsICJsaW5lQ2FwIjogInJvdW5kIiwgImxpbmVKb2luIjogInJvdW5kIiwgIm9wYWNpdHkiOiAxLjAsICJyYWRpdXMiOiA1LCAic3Ryb2tlIjogdHJ1ZSwgIndlaWdodCI6IDN9CiAgICAgICAgICAgICkuYWRkVG8obWFwX2FmOWQ3YWE0MWRiNDQ2MzRhN2EzYTdhNTFhNzMwYjMyKTsKICAgICAgICAKICAgIAogICAgICAgIHZhciBwb3B1cF84YjNlODk2MmMzZDA0NTZmYmYzNzNiMjEyNjcxMGFlOSA9IEwucG9wdXAoeyJtYXhXaWR0aCI6ICIxMDAlIn0pOwoKICAgICAgICAKICAgICAgICAgICAgdmFyIGh0bWxfYjNjZjMwNjY3NjZjNDY3ZmFlYjEyOTFlZTkwMzBiODAgPSAkKGA8ZGl2IGlkPSJodG1sX2IzY2YzMDY2NzY2YzQ2N2ZhZWIxMjkxZWU5MDMwYjgwIiBzdHlsZT0id2lkdGg6IDEwMC4wJTsgaGVpZ2h0OiAxMDAuMCU7Ij5Sb3NlbGF3biBDbHVzdGVyIDI8L2Rpdj5gKVswXTsKICAgICAgICAgICAgcG9wdXBfOGIzZTg5NjJjM2QwNDU2ZmJmMzczYjIxMjY3MTBhZTkuc2V0Q29udGVudChodG1sX2IzY2YzMDY2NzY2YzQ2N2ZhZWIxMjkxZWU5MDMwYjgwKTsKICAgICAgICAKCiAgICAgICAgY2lyY2xlX21hcmtlcl8wNTE1ODIzMzFlYmM0ZGJmYjUyNzk2NGY4YjhlZTA4Ni5iaW5kUG9wdXAocG9wdXBfOGIzZTg5NjJjM2QwNDU2ZmJmMzczYjIxMjY3MTBhZTkpCiAgICAgICAgOwoKICAgICAgICAKICAgIAogICAgCiAgICAgICAgICAgIHZhciBjaXJjbGVfbWFya2VyXzQ4ZjIyMzBhZTRhMjQ3Y2Q5YTA5ZjczYmIxZjkxMTJiID0gTC5jaXJjbGVNYXJrZXIoCiAgICAgICAgICAgICAgICBbNDMuNzEyNzUxMSwgLTc5LjM5MDE5NzVdLAogICAgICAgICAgICAgICAgeyJidWJibGluZ01vdXNlRXZlbnRzIjogdHJ1ZSwgImNvbG9yIjogIiMwMGI1ZWIiLCAiZGFzaEFycmF5IjogbnVsbCwgImRhc2hPZmZzZXQiOiBudWxsLCAiZmlsbCI6IHRydWUsICJmaWxsQ29sb3IiOiAiIzAwYjVlYiIsICJmaWxsT3BhY2l0eSI6IDAuNywgImZpbGxSdWxlIjogImV2ZW5vZGQiLCAibGluZUNhcCI6ICJyb3VuZCIsICJsaW5lSm9pbiI6ICJyb3VuZCIsICJvcGFjaXR5IjogMS4wLCAicmFkaXVzIjogNSwgInN0cm9rZSI6IHRydWUsICJ3ZWlnaHQiOiAzfQogICAgICAgICAgICApLmFkZFRvKG1hcF9hZjlkN2FhNDFkYjQ0NjM0YTdhM2E3YTUxYTczMGIzMik7CiAgICAgICAgCiAgICAKICAgICAgICB2YXIgcG9wdXBfYzEzODdmZDBiNDE5NDM3MTllMDRlNTY2ZDc2NzExZDAgPSBMLnBvcHVwKHsibWF4V2lkdGgiOiAiMTAwJSJ9KTsKCiAgICAgICAgCiAgICAgICAgICAgIHZhciBodG1sX2Q1NTYyMzYwMzZmNDQ5YWI5NDg2ZGZhZTAwOWQ0MmU1ID0gJChgPGRpdiBpZD0iaHRtbF9kNTU2MjM2MDM2ZjQ0OWFiOTQ4NmRmYWUwMDlkNDJlNSIgc3R5bGU9IndpZHRoOiAxMDAuMCU7IGhlaWdodDogMTAwLjAlOyI+RGF2aXN2aWxsZSBOb3J0aCBDbHVzdGVyIDI8L2Rpdj5gKVswXTsKICAgICAgICAgICAgcG9wdXBfYzEzODdmZDBiNDE5NDM3MTllMDRlNTY2ZDc2NzExZDAuc2V0Q29udGVudChodG1sX2Q1NTYyMzYwMzZmNDQ5YWI5NDg2ZGZhZTAwOWQ0MmU1KTsKICAgICAgICAKCiAgICAgICAgY2lyY2xlX21hcmtlcl80OGYyMjMwYWU0YTI0N2NkOWEwOWY3M2JiMWY5MTEyYi5iaW5kUG9wdXAocG9wdXBfYzEzODdmZDBiNDE5NDM3MTllMDRlNTY2ZDc2NzExZDApCiAgICAgICAgOwoKICAgICAgICAKICAgIAogICAgCiAgICAgICAgICAgIHZhciBjaXJjbGVfbWFya2VyX2Y5Y2JjYjEwODFhYTQzNWM4YzE5MWRkNjZiMjNiYTM0ID0gTC5jaXJjbGVNYXJrZXIoCiAgICAgICAgICAgICAgICBbNDMuNjk2OTQ3NiwgLTc5LjQxMTMwNzIwMDAwMDAxXSwKICAgICAgICAgICAgICAgIHsiYnViYmxpbmdNb3VzZUV2ZW50cyI6IHRydWUsICJjb2xvciI6ICIjMDBiNWViIiwgImRhc2hBcnJheSI6IG51bGwsICJkYXNoT2Zmc2V0IjogbnVsbCwgImZpbGwiOiB0cnVlLCAiZmlsbENvbG9yIjogIiMwMGI1ZWIiLCAiZmlsbE9wYWNpdHkiOiAwLjcsICJmaWxsUnVsZSI6ICJldmVub2RkIiwgImxpbmVDYXAiOiAicm91bmQiLCAibGluZUpvaW4iOiAicm91bmQiLCAib3BhY2l0eSI6IDEuMCwgInJhZGl1cyI6IDUsICJzdHJva2UiOiB0cnVlLCAid2VpZ2h0IjogM30KICAgICAgICAgICAgKS5hZGRUbyhtYXBfYWY5ZDdhYTQxZGI0NDYzNGE3YTNhN2E1MWE3MzBiMzIpOwogICAgICAgIAogICAgCiAgICAgICAgdmFyIHBvcHVwX2I0MjU2MTgxN2NlYjQ3ODRiNWY0MDExN2I1YjAxZjQzID0gTC5wb3B1cCh7Im1heFdpZHRoIjogIjEwMCUifSk7CgogICAgICAgIAogICAgICAgICAgICB2YXIgaHRtbF9mZDg3YjBiOGU1Zjk0NWZhYmEyMzgzMzU4NzA1NDQzMiA9ICQoYDxkaXYgaWQ9Imh0bWxfZmQ4N2IwYjhlNWY5NDVmYWJhMjM4MzM1ODcwNTQ0MzIiIHN0eWxlPSJ3aWR0aDogMTAwLjAlOyBoZWlnaHQ6IDEwMC4wJTsiPkZvcmVzdCBIaWxsIE5vcnRoICZhbXA7IFdlc3QgQ2x1c3RlciAyPC9kaXY+YClbMF07CiAgICAgICAgICAgIHBvcHVwX2I0MjU2MTgxN2NlYjQ3ODRiNWY0MDExN2I1YjAxZjQzLnNldENvbnRlbnQoaHRtbF9mZDg3YjBiOGU1Zjk0NWZhYmEyMzgzMzU4NzA1NDQzMik7CiAgICAgICAgCgogICAgICAgIGNpcmNsZV9tYXJrZXJfZjljYmNiMTA4MWFhNDM1YzhjMTkxZGQ2NmIyM2JhMzQuYmluZFBvcHVwKHBvcHVwX2I0MjU2MTgxN2NlYjQ3ODRiNWY0MDExN2I1YjAxZjQzKQogICAgICAgIDsKCiAgICAgICAgCiAgICAKICAgIAogICAgICAgICAgICB2YXIgY2lyY2xlX21hcmtlcl82YTdhYTMwOTVmMTk0YTU5OTY2YjJkMjZmNWFkNzJjMyA9IEwuY2lyY2xlTWFya2VyKAogICAgICAgICAgICAgICAgWzQzLjY2MTYwODMsIC03OS40NjQ3NjMyOTk5OTk5OV0sCiAgICAgICAgICAgICAgICB7ImJ1YmJsaW5nTW91c2VFdmVudHMiOiB0cnVlLCAiY29sb3IiOiAiIzgwMDBmZiIsICJkYXNoQXJyYXkiOiBudWxsLCAiZGFzaE9mZnNldCI6IG51bGwsICJmaWxsIjogdHJ1ZSwgImZpbGxDb2xvciI6ICIjODAwMGZmIiwgImZpbGxPcGFjaXR5IjogMC43LCAiZmlsbFJ1bGUiOiAiZXZlbm9kZCIsICJsaW5lQ2FwIjogInJvdW5kIiwgImxpbmVKb2luIjogInJvdW5kIiwgIm9wYWNpdHkiOiAxLjAsICJyYWRpdXMiOiA1LCAic3Ryb2tlIjogdHJ1ZSwgIndlaWdodCI6IDN9CiAgICAgICAgICAgICkuYWRkVG8obWFwX2FmOWQ3YWE0MWRiNDQ2MzRhN2EzYTdhNTFhNzMwYjMyKTsKICAgICAgICAKICAgIAogICAgICAgIHZhciBwb3B1cF9hNjkwYjkxZDdmZDY0OTBiODRiMzE3ZTUyNWM5NWY5NCA9IEwucG9wdXAoeyJtYXhXaWR0aCI6ICIxMDAlIn0pOwoKICAgICAgICAKICAgICAgICAgICAgdmFyIGh0bWxfOGU4ZjE5MDVhOWViNDQxZWEyYTRjNjU4OTRlMjlmMDIgPSAkKGA8ZGl2IGlkPSJodG1sXzhlOGYxOTA1YTllYjQ0MWVhMmE0YzY1ODk0ZTI5ZjAyIiBzdHlsZT0id2lkdGg6IDEwMC4wJTsgaGVpZ2h0OiAxMDAuMCU7Ij5IaWdoIFBhcmsgLyBUaGUgSnVuY3Rpb24gU291dGggQ2x1c3RlciAxPC9kaXY+YClbMF07CiAgICAgICAgICAgIHBvcHVwX2E2OTBiOTFkN2ZkNjQ5MGI4NGIzMTdlNTI1Yzk1Zjk0LnNldENvbnRlbnQoaHRtbF84ZThmMTkwNWE5ZWI0NDFlYTJhNGM2NTg5NGUyOWYwMik7CiAgICAgICAgCgogICAgICAgIGNpcmNsZV9tYXJrZXJfNmE3YWEzMDk1ZjE5NGE1OTk2NmIyZDI2ZjVhZDcyYzMuYmluZFBvcHVwKHBvcHVwX2E2OTBiOTFkN2ZkNjQ5MGI4NGIzMTdlNTI1Yzk1Zjk0KQogICAgICAgIDsKCiAgICAgICAgCiAgICAKICAgIAogICAgICAgICAgICB2YXIgY2lyY2xlX21hcmtlcl9lZThiOGM2N2JiMTc0ZTRmYTZjYzU5MTUzNWNlMmNmNCA9IEwuY2lyY2xlTWFya2VyKAogICAgICAgICAgICAgICAgWzQzLjcxNTM4MzQsIC03OS40MDU2Nzg0MDAwMDAwMV0sCiAgICAgICAgICAgICAgICB7ImJ1YmJsaW5nTW91c2VFdmVudHMiOiB0cnVlLCAiY29sb3IiOiAiIzAwYjVlYiIsICJkYXNoQXJyYXkiOiBudWxsLCAiZGFzaE9mZnNldCI6IG51bGwsICJmaWxsIjogdHJ1ZSwgImZpbGxDb2xvciI6ICIjMDBiNWViIiwgImZpbGxPcGFjaXR5IjogMC43LCAiZmlsbFJ1bGUiOiAiZXZlbm9kZCIsICJsaW5lQ2FwIjogInJvdW5kIiwgImxpbmVKb2luIjogInJvdW5kIiwgIm9wYWNpdHkiOiAxLjAsICJyYWRpdXMiOiA1LCAic3Ryb2tlIjogdHJ1ZSwgIndlaWdodCI6IDN9CiAgICAgICAgICAgICkuYWRkVG8obWFwX2FmOWQ3YWE0MWRiNDQ2MzRhN2EzYTdhNTFhNzMwYjMyKTsKICAgICAgICAKICAgIAogICAgICAgIHZhciBwb3B1cF84YjA5MWI1Y2NjNWY0MTUxYTY0ZGJhM2YyMjhhNzgxZiA9IEwucG9wdXAoeyJtYXhXaWR0aCI6ICIxMDAlIn0pOwoKICAgICAgICAKICAgICAgICAgICAgdmFyIGh0bWxfZTU3OWJjZGY5MTcyNDIzNWEyZDI1NTQ3MGI2MGZhODUgPSAkKGA8ZGl2IGlkPSJodG1sX2U1NzliY2RmOTE3MjQyMzVhMmQyNTU0NzBiNjBmYTg1IiBzdHlsZT0id2lkdGg6IDEwMC4wJTsgaGVpZ2h0OiAxMDAuMCU7Ij5Ob3J0aCBUb3JvbnRvIFdlc3QgQ2x1c3RlciAyPC9kaXY+YClbMF07CiAgICAgICAgICAgIHBvcHVwXzhiMDkxYjVjY2M1ZjQxNTFhNjRkYmEzZjIyOGE3ODFmLnNldENvbnRlbnQoaHRtbF9lNTc5YmNkZjkxNzI0MjM1YTJkMjU1NDcwYjYwZmE4NSk7CiAgICAgICAgCgogICAgICAgIGNpcmNsZV9tYXJrZXJfZWU4YjhjNjdiYjE3NGU0ZmE2Y2M1OTE1MzVjZTJjZjQuYmluZFBvcHVwKHBvcHVwXzhiMDkxYjVjY2M1ZjQxNTFhNjRkYmEzZjIyOGE3ODFmKQogICAgICAgIDsKCiAgICAgICAgCiAgICAKICAgIAogICAgICAgICAgICB2YXIgY2lyY2xlX21hcmtlcl84ZmNhNGE3MDhmYmY0ZGFlOTgzZTM4YzU1MzIyODcyYyA9IEwuY2lyY2xlTWFya2VyKAogICAgICAgICAgICAgICAgWzQzLjY3MjcwOTcsIC03OS40MDU2Nzg0MDAwMDAwMV0sCiAgICAgICAgICAgICAgICB7ImJ1YmJsaW5nTW91c2VFdmVudHMiOiB0cnVlLCAiY29sb3IiOiAiIzgwZmZiNCIsICJkYXNoQXJyYXkiOiBudWxsLCAiZGFzaE9mZnNldCI6IG51bGwsICJmaWxsIjogdHJ1ZSwgImZpbGxDb2xvciI6ICIjODBmZmI0IiwgImZpbGxPcGFjaXR5IjogMC43LCAiZmlsbFJ1bGUiOiAiZXZlbm9kZCIsICJsaW5lQ2FwIjogInJvdW5kIiwgImxpbmVKb2luIjogInJvdW5kIiwgIm9wYWNpdHkiOiAxLjAsICJyYWRpdXMiOiA1LCAic3Ryb2tlIjogdHJ1ZSwgIndlaWdodCI6IDN9CiAgICAgICAgICAgICkuYWRkVG8obWFwX2FmOWQ3YWE0MWRiNDQ2MzRhN2EzYTdhNTFhNzMwYjMyKTsKICAgICAgICAKICAgIAogICAgICAgIHZhciBwb3B1cF9jOWEwYjZiYjc5OTU0ZjI5YTUyYmEwMzkyZDE4YTE2OCA9IEwucG9wdXAoeyJtYXhXaWR0aCI6ICIxMDAlIn0pOwoKICAgICAgICAKICAgICAgICAgICAgdmFyIGh0bWxfNjBkYzYwODlhNmI2NGQ5OThkNzAxZTk2ZDhhZTdlNjMgPSAkKGA8ZGl2IGlkPSJodG1sXzYwZGM2MDg5YTZiNjRkOTk4ZDcwMWU5NmQ4YWU3ZTYzIiBzdHlsZT0id2lkdGg6IDEwMC4wJTsgaGVpZ2h0OiAxMDAuMCU7Ij5UaGUgQW5uZXggLyBOb3J0aCBNaWR0b3duIC8gWW9ya3ZpbGxlIENsdXN0ZXIgMzwvZGl2PmApWzBdOwogICAgICAgICAgICBwb3B1cF9jOWEwYjZiYjc5OTU0ZjI5YTUyYmEwMzkyZDE4YTE2OC5zZXRDb250ZW50KGh0bWxfNjBkYzYwODlhNmI2NGQ5OThkNzAxZTk2ZDhhZTdlNjMpOwogICAgICAgIAoKICAgICAgICBjaXJjbGVfbWFya2VyXzhmY2E0YTcwOGZiZjRkYWU5ODNlMzhjNTUzMjI4NzJjLmJpbmRQb3B1cChwb3B1cF9jOWEwYjZiYjc5OTU0ZjI5YTUyYmEwMzkyZDE4YTE2OCkKICAgICAgICA7CgogICAgICAgIAogICAgCiAgICAKICAgICAgICAgICAgdmFyIGNpcmNsZV9tYXJrZXJfMmEzNTM1YjY2ZjJjNDNkZjgwNDNmNzEwZTZmM2Q1NTMgPSBMLmNpcmNsZU1hcmtlcigKICAgICAgICAgICAgICAgIFs0My42NDg5NTk3LCAtNzkuNDU2MzI1XSwKICAgICAgICAgICAgICAgIHsiYnViYmxpbmdNb3VzZUV2ZW50cyI6IHRydWUsICJjb2xvciI6ICIjODAwMGZmIiwgImRhc2hBcnJheSI6IG51bGwsICJkYXNoT2Zmc2V0IjogbnVsbCwgImZpbGwiOiB0cnVlLCAiZmlsbENvbG9yIjogIiM4MDAwZmYiLCAiZmlsbE9wYWNpdHkiOiAwLjcsICJmaWxsUnVsZSI6ICJldmVub2RkIiwgImxpbmVDYXAiOiAicm91bmQiLCAibGluZUpvaW4iOiAicm91bmQiLCAib3BhY2l0eSI6IDEuMCwgInJhZGl1cyI6IDUsICJzdHJva2UiOiB0cnVlLCAid2VpZ2h0IjogM30KICAgICAgICAgICAgKS5hZGRUbyhtYXBfYWY5ZDdhYTQxZGI0NDYzNGE3YTNhN2E1MWE3MzBiMzIpOwogICAgICAgIAogICAgCiAgICAgICAgdmFyIHBvcHVwX2E2NDUwMDFhMjU0NTRjNGQ4YTlmYTM2N2IyYzUwZmJkID0gTC5wb3B1cCh7Im1heFdpZHRoIjogIjEwMCUifSk7CgogICAgICAgIAogICAgICAgICAgICB2YXIgaHRtbF8wY2YyY2RkMmRiZDU0NDdmODIxMWMyMzg3YTUwMmVjZiA9ICQoYDxkaXYgaWQ9Imh0bWxfMGNmMmNkZDJkYmQ1NDQ3ZjgyMTFjMjM4N2E1MDJlY2YiIHN0eWxlPSJ3aWR0aDogMTAwLjAlOyBoZWlnaHQ6IDEwMC4wJTsiPlBhcmtkYWxlIC8gUm9uY2VzdmFsbGVzIENsdXN0ZXIgMTwvZGl2PmApWzBdOwogICAgICAgICAgICBwb3B1cF9hNjQ1MDAxYTI1NDU0YzRkOGE5ZmEzNjdiMmM1MGZiZC5zZXRDb250ZW50KGh0bWxfMGNmMmNkZDJkYmQ1NDQ3ZjgyMTFjMjM4N2E1MDJlY2YpOwogICAgICAgIAoKICAgICAgICBjaXJjbGVfbWFya2VyXzJhMzUzNWI2NmYyYzQzZGY4MDQzZjcxMGU2ZjNkNTUzLmJpbmRQb3B1cChwb3B1cF9hNjQ1MDAxYTI1NDU0YzRkOGE5ZmEzNjdiMmM1MGZiZCkKICAgICAgICA7CgogICAgICAgIAogICAgCiAgICAKICAgICAgICAgICAgdmFyIGNpcmNsZV9tYXJrZXJfZDk5MDcyMmMxZWRjNGIyZDk4OGUwNDE2ZjA0ZTBmNzQgPSBMLmNpcmNsZU1hcmtlcigKICAgICAgICAgICAgICAgIFs0My43MDQzMjQ0LCAtNzkuMzg4NzkwMV0sCiAgICAgICAgICAgICAgICB7ImJ1YmJsaW5nTW91c2VFdmVudHMiOiB0cnVlLCAiY29sb3IiOiAiIzAwYjVlYiIsICJkYXNoQXJyYXkiOiBudWxsLCAiZGFzaE9mZnNldCI6IG51bGwsICJmaWxsIjogdHJ1ZSwgImZpbGxDb2xvciI6ICIjMDBiNWViIiwgImZpbGxPcGFjaXR5IjogMC43LCAiZmlsbFJ1bGUiOiAiZXZlbm9kZCIsICJsaW5lQ2FwIjogInJvdW5kIiwgImxpbmVKb2luIjogInJvdW5kIiwgIm9wYWNpdHkiOiAxLjAsICJyYWRpdXMiOiA1LCAic3Ryb2tlIjogdHJ1ZSwgIndlaWdodCI6IDN9CiAgICAgICAgICAgICkuYWRkVG8obWFwX2FmOWQ3YWE0MWRiNDQ2MzRhN2EzYTdhNTFhNzMwYjMyKTsKICAgICAgICAKICAgIAogICAgICAgIHZhciBwb3B1cF9kNjU1OTNkMmRmOTQ0Yzg1OTAzNjNhZTQ4ZmU2Mzg3YyA9IEwucG9wdXAoeyJtYXhXaWR0aCI6ICIxMDAlIn0pOwoKICAgICAgICAKICAgICAgICAgICAgdmFyIGh0bWxfZDAzNmVjZDE5YmQxNDk5YTg3YjgyNTc3YzhlZDJiZjkgPSAkKGA8ZGl2IGlkPSJodG1sX2QwMzZlY2QxOWJkMTQ5OWE4N2I4MjU3N2M4ZWQyYmY5IiBzdHlsZT0id2lkdGg6IDEwMC4wJTsgaGVpZ2h0OiAxMDAuMCU7Ij5EYXZpc3ZpbGxlIENsdXN0ZXIgMjwvZGl2PmApWzBdOwogICAgICAgICAgICBwb3B1cF9kNjU1OTNkMmRmOTQ0Yzg1OTAzNjNhZTQ4ZmU2Mzg3Yy5zZXRDb250ZW50KGh0bWxfZDAzNmVjZDE5YmQxNDk5YTg3YjgyNTc3YzhlZDJiZjkpOwogICAgICAgIAoKICAgICAgICBjaXJjbGVfbWFya2VyX2Q5OTA3MjJjMWVkYzRiMmQ5ODhlMDQxNmYwNGUwZjc0LmJpbmRQb3B1cChwb3B1cF9kNjU1OTNkMmRmOTQ0Yzg1OTAzNjNhZTQ4ZmU2Mzg3YykKICAgICAgICA7CgogICAgICAgIAogICAgCiAgICAKICAgICAgICAgICAgdmFyIGNpcmNsZV9tYXJrZXJfOGFlMDZiNjlhZWFiNDhmOGI4MTc3NGRkZGU4NGNmZDMgPSBMLmNpcmNsZU1hcmtlcigKICAgICAgICAgICAgICAgIFs0My42NjI2OTU2LCAtNzkuNDAwMDQ5M10sCiAgICAgICAgICAgICAgICB7ImJ1YmJsaW5nTW91c2VFdmVudHMiOiB0cnVlLCAiY29sb3IiOiAiIzgwZmZiNCIsICJkYXNoQXJyYXkiOiBudWxsLCAiZGFzaE9mZnNldCI6IG51bGwsICJmaWxsIjogdHJ1ZSwgImZpbGxDb2xvciI6ICIjODBmZmI0IiwgImZpbGxPcGFjaXR5IjogMC43LCAiZmlsbFJ1bGUiOiAiZXZlbm9kZCIsICJsaW5lQ2FwIjogInJvdW5kIiwgImxpbmVKb2luIjogInJvdW5kIiwgIm9wYWNpdHkiOiAxLjAsICJyYWRpdXMiOiA1LCAic3Ryb2tlIjogdHJ1ZSwgIndlaWdodCI6IDN9CiAgICAgICAgICAgICkuYWRkVG8obWFwX2FmOWQ3YWE0MWRiNDQ2MzRhN2EzYTdhNTFhNzMwYjMyKTsKICAgICAgICAKICAgIAogICAgICAgIHZhciBwb3B1cF9hYzFkMjY2YzIxNzg0OTFiYjE4MjJiMzFhMjUzZDJkMCA9IEwucG9wdXAoeyJtYXhXaWR0aCI6ICIxMDAlIn0pOwoKICAgICAgICAKICAgICAgICAgICAgdmFyIGh0bWxfMTNlZDc5ZTVmMWYwNDkwNThjN2ZjNDAyODNmOTk0YmMgPSAkKGA8ZGl2IGlkPSJodG1sXzEzZWQ3OWU1ZjFmMDQ5MDU4YzdmYzQwMjgzZjk5NGJjIiBzdHlsZT0id2lkdGg6IDEwMC4wJTsgaGVpZ2h0OiAxMDAuMCU7Ij5Vbml2ZXJzaXR5IG9mIFRvcm9udG8gLyBIYXJib3JkIENsdXN0ZXIgMzwvZGl2PmApWzBdOwogICAgICAgICAgICBwb3B1cF9hYzFkMjY2YzIxNzg0OTFiYjE4MjJiMzFhMjUzZDJkMC5zZXRDb250ZW50KGh0bWxfMTNlZDc5ZTVmMWYwNDkwNThjN2ZjNDAyODNmOTk0YmMpOwogICAgICAgIAoKICAgICAgICBjaXJjbGVfbWFya2VyXzhhZTA2YjY5YWVhYjQ4ZjhiODE3NzRkZGRlODRjZmQzLmJpbmRQb3B1cChwb3B1cF9hYzFkMjY2YzIxNzg0OTFiYjE4MjJiMzFhMjUzZDJkMCkKICAgICAgICA7CgogICAgICAgIAogICAgCiAgICAKICAgICAgICAgICAgdmFyIGNpcmNsZV9tYXJrZXJfNWUzMDI1NzNhOTVlNDgwYzhmYjIzMDUyNDM5NzY2MjQgPSBMLmNpcmNsZU1hcmtlcigKICAgICAgICAgICAgICAgIFs0My42NTE1NzA2LCAtNzkuNDg0NDQ5OV0sCiAgICAgICAgICAgICAgICB7ImJ1YmJsaW5nTW91c2VFdmVudHMiOiB0cnVlLCAiY29sb3IiOiAiIzgwMDBmZiIsICJkYXNoQXJyYXkiOiBudWxsLCAiZGFzaE9mZnNldCI6IG51bGwsICJmaWxsIjogdHJ1ZSwgImZpbGxDb2xvciI6ICIjODAwMGZmIiwgImZpbGxPcGFjaXR5IjogMC43LCAiZmlsbFJ1bGUiOiAiZXZlbm9kZCIsICJsaW5lQ2FwIjogInJvdW5kIiwgImxpbmVKb2luIjogInJvdW5kIiwgIm9wYWNpdHkiOiAxLjAsICJyYWRpdXMiOiA1LCAic3Ryb2tlIjogdHJ1ZSwgIndlaWdodCI6IDN9CiAgICAgICAgICAgICkuYWRkVG8obWFwX2FmOWQ3YWE0MWRiNDQ2MzRhN2EzYTdhNTFhNzMwYjMyKTsKICAgICAgICAKICAgIAogICAgICAgIHZhciBwb3B1cF8zMWJhMzUyNWVjZTI0MmVkYmMwNmEzZjhmYjFlNGM2ZCA9IEwucG9wdXAoeyJtYXhXaWR0aCI6ICIxMDAlIn0pOwoKICAgICAgICAKICAgICAgICAgICAgdmFyIGh0bWxfMGFiNDllYmVkMDQzNDU3OTljMGU3NzE4MzZiOTg4ZTYgPSAkKGA8ZGl2IGlkPSJodG1sXzBhYjQ5ZWJlZDA0MzQ1Nzk5YzBlNzcxODM2Yjk4OGU2IiBzdHlsZT0id2lkdGg6IDEwMC4wJTsgaGVpZ2h0OiAxMDAuMCU7Ij5SdW5ueW1lZGUgLyBTd2Fuc2VhIENsdXN0ZXIgMTwvZGl2PmApWzBdOwogICAgICAgICAgICBwb3B1cF8zMWJhMzUyNWVjZTI0MmVkYmMwNmEzZjhmYjFlNGM2ZC5zZXRDb250ZW50KGh0bWxfMGFiNDllYmVkMDQzNDU3OTljMGU3NzE4MzZiOTg4ZTYpOwogICAgICAgIAoKICAgICAgICBjaXJjbGVfbWFya2VyXzVlMzAyNTczYTk1ZTQ4MGM4ZmIyMzA1MjQzOTc2NjI0LmJpbmRQb3B1cChwb3B1cF8zMWJhMzUyNWVjZTI0MmVkYmMwNmEzZjhmYjFlNGM2ZCkKICAgICAgICA7CgogICAgICAgIAogICAgCiAgICAKICAgICAgICAgICAgdmFyIGNpcmNsZV9tYXJrZXJfODA1OTI4MjgwOWY2NGRhOGFmY2NkMTQwMDkyZWEzNDIgPSBMLmNpcmNsZU1hcmtlcigKICAgICAgICAgICAgICAgIFs0My42ODk1NzQzLCAtNzkuMzgzMTU5OTAwMDAwMDFdLAogICAgICAgICAgICAgICAgeyJidWJibGluZ01vdXNlRXZlbnRzIjogdHJ1ZSwgImNvbG9yIjogIiMwMGI1ZWIiLCAiZGFzaEFycmF5IjogbnVsbCwgImRhc2hPZmZzZXQiOiBudWxsLCAiZmlsbCI6IHRydWUsICJmaWxsQ29sb3IiOiAiIzAwYjVlYiIsICJmaWxsT3BhY2l0eSI6IDAuNywgImZpbGxSdWxlIjogImV2ZW5vZGQiLCAibGluZUNhcCI6ICJyb3VuZCIsICJsaW5lSm9pbiI6ICJyb3VuZCIsICJvcGFjaXR5IjogMS4wLCAicmFkaXVzIjogNSwgInN0cm9rZSI6IHRydWUsICJ3ZWlnaHQiOiAzfQogICAgICAgICAgICApLmFkZFRvKG1hcF9hZjlkN2FhNDFkYjQ0NjM0YTdhM2E3YTUxYTczMGIzMik7CiAgICAgICAgCiAgICAKICAgICAgICB2YXIgcG9wdXBfYjM5NmZmM2M0NzQxNDc5YmI3ODE2ZDkyNzM5OWQ3N2QgPSBMLnBvcHVwKHsibWF4V2lkdGgiOiAiMTAwJSJ9KTsKCiAgICAgICAgCiAgICAgICAgICAgIHZhciBodG1sX2Y5MjkxOWY5ZDRiYzRkYTViYzEyNjUwMTJlN2NmMDg5ID0gJChgPGRpdiBpZD0iaHRtbF9mOTI5MTlmOWQ0YmM0ZGE1YmMxMjY1MDEyZTdjZjA4OSIgc3R5bGU9IndpZHRoOiAxMDAuMCU7IGhlaWdodDogMTAwLjAlOyI+TW9vcmUgUGFyayAvIFN1bW1lcmhpbGwgRWFzdCBDbHVzdGVyIDI8L2Rpdj5gKVswXTsKICAgICAgICAgICAgcG9wdXBfYjM5NmZmM2M0NzQxNDc5YmI3ODE2ZDkyNzM5OWQ3N2Quc2V0Q29udGVudChodG1sX2Y5MjkxOWY5ZDRiYzRkYTViYzEyNjUwMTJlN2NmMDg5KTsKICAgICAgICAKCiAgICAgICAgY2lyY2xlX21hcmtlcl84MDU5MjgyODA5ZjY0ZGE4YWZjY2QxNDAwOTJlYTM0Mi5iaW5kUG9wdXAocG9wdXBfYjM5NmZmM2M0NzQxNDc5YmI3ODE2ZDkyNzM5OWQ3N2QpCiAgICAgICAgOwoKICAgICAgICAKICAgIAogICAgCiAgICAgICAgICAgIHZhciBjaXJjbGVfbWFya2VyXzI2ZjliMmJlNmJmMjQ0OWJiZjI4MTBmMzU4Y2UwMjVkID0gTC5jaXJjbGVNYXJrZXIoCiAgICAgICAgICAgICAgICBbNDMuNjUzMjA1NywgLTc5LjQwMDA0OTNdLAogICAgICAgICAgICAgICAgeyJidWJibGluZ01vdXNlRXZlbnRzIjogdHJ1ZSwgImNvbG9yIjogIiM4MGZmYjQiLCAiZGFzaEFycmF5IjogbnVsbCwgImRhc2hPZmZzZXQiOiBudWxsLCAiZmlsbCI6IHRydWUsICJmaWxsQ29sb3IiOiAiIzgwZmZiNCIsICJmaWxsT3BhY2l0eSI6IDAuNywgImZpbGxSdWxlIjogImV2ZW5vZGQiLCAibGluZUNhcCI6ICJyb3VuZCIsICJsaW5lSm9pbiI6ICJyb3VuZCIsICJvcGFjaXR5IjogMS4wLCAicmFkaXVzIjogNSwgInN0cm9rZSI6IHRydWUsICJ3ZWlnaHQiOiAzfQogICAgICAgICAgICApLmFkZFRvKG1hcF9hZjlkN2FhNDFkYjQ0NjM0YTdhM2E3YTUxYTczMGIzMik7CiAgICAgICAgCiAgICAKICAgICAgICB2YXIgcG9wdXBfYWEzZDljOTRiZDY3NGJiZWE3MWU2NDA2MjIzNjVhOTAgPSBMLnBvcHVwKHsibWF4V2lkdGgiOiAiMTAwJSJ9KTsKCiAgICAgICAgCiAgICAgICAgICAgIHZhciBodG1sXzcyM2RiYjY2NGJhZDQ5Y2Y5YmYzMDA0MjljNzczOTA1ID0gJChgPGRpdiBpZD0iaHRtbF83MjNkYmI2NjRiYWQ0OWNmOWJmMzAwNDI5Yzc3MzkwNSIgc3R5bGU9IndpZHRoOiAxMDAuMCU7IGhlaWdodDogMTAwLjAlOyI+S2Vuc2luZ3RvbiBNYXJrZXQgLyBDaGluYXRvd24gLyBHcmFuZ2UgUGFyayBDbHVzdGVyIDM8L2Rpdj5gKVswXTsKICAgICAgICAgICAgcG9wdXBfYWEzZDljOTRiZDY3NGJiZWE3MWU2NDA2MjIzNjVhOTAuc2V0Q29udGVudChodG1sXzcyM2RiYjY2NGJhZDQ5Y2Y5YmYzMDA0MjljNzczOTA1KTsKICAgICAgICAKCiAgICAgICAgY2lyY2xlX21hcmtlcl8yNmY5YjJiZTZiZjI0NDliYmYyODEwZjM1OGNlMDI1ZC5iaW5kUG9wdXAocG9wdXBfYWEzZDljOTRiZDY3NGJiZWE3MWU2NDA2MjIzNjVhOTApCiAgICAgICAgOwoKICAgICAgICAKICAgIAogICAgCiAgICAgICAgICAgIHZhciBjaXJjbGVfbWFya2VyXzgyYjhkNzk1NTYxOTQyNDFhMjhkZDU0MzM5NDEzZjY5ID0gTC5jaXJjbGVNYXJrZXIoCiAgICAgICAgICAgICAgICBbNDMuNjg2NDEyMjk5OTk5OTksIC03OS40MDAwNDkzXSwKICAgICAgICAgICAgICAgIHsiYnViYmxpbmdNb3VzZUV2ZW50cyI6IHRydWUsICJjb2xvciI6ICIjMDBiNWViIiwgImRhc2hBcnJheSI6IG51bGwsICJkYXNoT2Zmc2V0IjogbnVsbCwgImZpbGwiOiB0cnVlLCAiZmlsbENvbG9yIjogIiMwMGI1ZWIiLCAiZmlsbE9wYWNpdHkiOiAwLjcsICJmaWxsUnVsZSI6ICJldmVub2RkIiwgImxpbmVDYXAiOiAicm91bmQiLCAibGluZUpvaW4iOiAicm91bmQiLCAib3BhY2l0eSI6IDEuMCwgInJhZGl1cyI6IDUsICJzdHJva2UiOiB0cnVlLCAid2VpZ2h0IjogM30KICAgICAgICAgICAgKS5hZGRUbyhtYXBfYWY5ZDdhYTQxZGI0NDYzNGE3YTNhN2E1MWE3MzBiMzIpOwogICAgICAgIAogICAgCiAgICAgICAgdmFyIHBvcHVwX2JjMWYyZjkwOWE5MjQ1ZmE5MjA5YmExMzMzY2IyNzlkID0gTC5wb3B1cCh7Im1heFdpZHRoIjogIjEwMCUifSk7CgogICAgICAgIAogICAgICAgICAgICB2YXIgaHRtbF85YzUxYTg5Yzg5MzA0OWU4YTE2YTMxOTI0ZDk5N2QwMCA9ICQoYDxkaXYgaWQ9Imh0bWxfOWM1MWE4OWM4OTMwNDllOGExNmEzMTkyNGQ5OTdkMDAiIHN0eWxlPSJ3aWR0aDogMTAwLjAlOyBoZWlnaHQ6IDEwMC4wJTsiPlN1bW1lcmhpbGwgV2VzdCAvIFJhdGhuZWxseSAvIFNvdXRoIEhpbGwgLyBGb3Jlc3QgSGlsbCBTRSAvIERlZXIgUGFyayBDbHVzdGVyIDI8L2Rpdj5gKVswXTsKICAgICAgICAgICAgcG9wdXBfYmMxZjJmOTA5YTkyNDVmYTkyMDliYTEzMzNjYjI3OWQuc2V0Q29udGVudChodG1sXzljNTFhODljODkzMDQ5ZThhMTZhMzE5MjRkOTk3ZDAwKTsKICAgICAgICAKCiAgICAgICAgY2lyY2xlX21hcmtlcl84MmI4ZDc5NTU2MTk0MjQxYTI4ZGQ1NDMzOTQxM2Y2OS5iaW5kUG9wdXAocG9wdXBfYmMxZjJmOTA5YTkyNDVmYTkyMDliYTEzMzNjYjI3OWQpCiAgICAgICAgOwoKICAgICAgICAKICAgIAogICAgCiAgICAgICAgICAgIHZhciBjaXJjbGVfbWFya2VyXzEzYTYzNGFmYzA5YzQzMTFiOGNhNmRmZDNjZmQ2YjlmID0gTC5jaXJjbGVNYXJrZXIoCiAgICAgICAgICAgICAgICBbNDMuNjI4OTQ2NywgLTc5LjM5NDQxOTldLAogICAgICAgICAgICAgICAgeyJidWJibGluZ01vdXNlRXZlbnRzIjogdHJ1ZSwgImNvbG9yIjogIiNmZjAwMDAiLCAiZGFzaEFycmF5IjogbnVsbCwgImRhc2hPZmZzZXQiOiBudWxsLCAiZmlsbCI6IHRydWUsICJmaWxsQ29sb3IiOiAiI2ZmMDAwMCIsICJmaWxsT3BhY2l0eSI6IDAuNywgImZpbGxSdWxlIjogImV2ZW5vZGQiLCAibGluZUNhcCI6ICJyb3VuZCIsICJsaW5lSm9pbiI6ICJyb3VuZCIsICJvcGFjaXR5IjogMS4wLCAicmFkaXVzIjogNSwgInN0cm9rZSI6IHRydWUsICJ3ZWlnaHQiOiAzfQogICAgICAgICAgICApLmFkZFRvKG1hcF9hZjlkN2FhNDFkYjQ0NjM0YTdhM2E3YTUxYTczMGIzMik7CiAgICAgICAgCiAgICAKICAgICAgICB2YXIgcG9wdXBfNWNmMGVhMTYwMGI1NGExMWEzMDJhMDE0ZWRmMTE3ZGUgPSBMLnBvcHVwKHsibWF4V2lkdGgiOiAiMTAwJSJ9KTsKCiAgICAgICAgCiAgICAgICAgICAgIHZhciBodG1sXzc3YmU1ZTYwZTZlNjQ0NDhiMDkwZmUxOTdiYjZiZjg0ID0gJChgPGRpdiBpZD0iaHRtbF83N2JlNWU2MGU2ZTY0NDQ4YjA5MGZlMTk3YmI2YmY4NCIgc3R5bGU9IndpZHRoOiAxMDAuMCU7IGhlaWdodDogMTAwLjAlOyI+Q04gVG93ZXIgLyBLaW5nIGFuZCBTcGFkaW5hIC8gUmFpbHdheSBMYW5kcyAvIEhhcmJvdXJmcm9udCBXZXN0IC8gQmF0aHVyc3QgUXVheSAvIFNvdXRoIE5pYWdhcmEgLyBJc2xhbmQgYWlycG9ydCBDbHVzdGVyIDA8L2Rpdj5gKVswXTsKICAgICAgICAgICAgcG9wdXBfNWNmMGVhMTYwMGI1NGExMWEzMDJhMDE0ZWRmMTE3ZGUuc2V0Q29udGVudChodG1sXzc3YmU1ZTYwZTZlNjQ0NDhiMDkwZmUxOTdiYjZiZjg0KTsKICAgICAgICAKCiAgICAgICAgY2lyY2xlX21hcmtlcl8xM2E2MzRhZmMwOWM0MzExYjhjYTZkZmQzY2ZkNmI5Zi5iaW5kUG9wdXAocG9wdXBfNWNmMGVhMTYwMGI1NGExMWEzMDJhMDE0ZWRmMTE3ZGUpCiAgICAgICAgOwoKICAgICAgICAKICAgIAogICAgCiAgICAgICAgICAgIHZhciBjaXJjbGVfbWFya2VyX2QyMjZmOTY5NjJjZTQ1ZDZhZTVhODIzMGNmNmQ0YjliID0gTC5jaXJjbGVNYXJrZXIoCiAgICAgICAgICAgICAgICBbNDMuNjc5NTYyNiwgLTc5LjM3NzUyOTQwMDAwMDAxXSwKICAgICAgICAgICAgICAgIHsiYnViYmxpbmdNb3VzZUV2ZW50cyI6IHRydWUsICJjb2xvciI6ICIjZmYwMDAwIiwgImRhc2hBcnJheSI6IG51bGwsICJkYXNoT2Zmc2V0IjogbnVsbCwgImZpbGwiOiB0cnVlLCAiZmlsbENvbG9yIjogIiNmZjAwMDAiLCAiZmlsbE9wYWNpdHkiOiAwLjcsICJmaWxsUnVsZSI6ICJldmVub2RkIiwgImxpbmVDYXAiOiAicm91bmQiLCAibGluZUpvaW4iOiAicm91bmQiLCAib3BhY2l0eSI6IDEuMCwgInJhZGl1cyI6IDUsICJzdHJva2UiOiB0cnVlLCAid2VpZ2h0IjogM30KICAgICAgICAgICAgKS5hZGRUbyhtYXBfYWY5ZDdhYTQxZGI0NDYzNGE3YTNhN2E1MWE3MzBiMzIpOwogICAgICAgIAogICAgCiAgICAgICAgdmFyIHBvcHVwXzM0NWZlZGI2OTUwZTQ3YzNiNjQyMjZiNjg4MGNlYmQzID0gTC5wb3B1cCh7Im1heFdpZHRoIjogIjEwMCUifSk7CgogICAgICAgIAogICAgICAgICAgICB2YXIgaHRtbF82NzgwZjI5MmVhODg0YWMyODBiZTJkMDdiZjUzNDJjZiA9ICQoYDxkaXYgaWQ9Imh0bWxfNjc4MGYyOTJlYTg4NGFjMjgwYmUyZDA3YmY1MzQyY2YiIHN0eWxlPSJ3aWR0aDogMTAwLjAlOyBoZWlnaHQ6IDEwMC4wJTsiPlJvc2VkYWxlIENsdXN0ZXIgMDwvZGl2PmApWzBdOwogICAgICAgICAgICBwb3B1cF8zNDVmZWRiNjk1MGU0N2MzYjY0MjI2YjY4ODBjZWJkMy5zZXRDb250ZW50KGh0bWxfNjc4MGYyOTJlYTg4NGFjMjgwYmUyZDA3YmY1MzQyY2YpOwogICAgICAgIAoKICAgICAgICBjaXJjbGVfbWFya2VyX2QyMjZmOTY5NjJjZTQ1ZDZhZTVhODIzMGNmNmQ0YjliLmJpbmRQb3B1cChwb3B1cF8zNDVmZWRiNjk1MGU0N2MzYjY0MjI2YjY4ODBjZWJkMykKICAgICAgICA7CgogICAgICAgIAogICAgCiAgICAKICAgICAgICAgICAgdmFyIGNpcmNsZV9tYXJrZXJfN2MwOWZlMTM5N2NhNGUxNTgxMjU1NjkxNTk3Y2JlNGUgPSBMLmNpcmNsZU1hcmtlcigKICAgICAgICAgICAgICAgIFs0My42NDY0MzUyLCAtNzkuMzc0ODQ1OTk5OTk5OTldLAogICAgICAgICAgICAgICAgeyJidWJibGluZ01vdXNlRXZlbnRzIjogdHJ1ZSwgImNvbG9yIjogIiNmZjAwMDAiLCAiZGFzaEFycmF5IjogbnVsbCwgImRhc2hPZmZzZXQiOiBudWxsLCAiZmlsbCI6IHRydWUsICJmaWxsQ29sb3IiOiAiI2ZmMDAwMCIsICJmaWxsT3BhY2l0eSI6IDAuNywgImZpbGxSdWxlIjogImV2ZW5vZGQiLCAibGluZUNhcCI6ICJyb3VuZCIsICJsaW5lSm9pbiI6ICJyb3VuZCIsICJvcGFjaXR5IjogMS4wLCAicmFkaXVzIjogNSwgInN0cm9rZSI6IHRydWUsICJ3ZWlnaHQiOiAzfQogICAgICAgICAgICApLmFkZFRvKG1hcF9hZjlkN2FhNDFkYjQ0NjM0YTdhM2E3YTUxYTczMGIzMik7CiAgICAgICAgCiAgICAKICAgICAgICB2YXIgcG9wdXBfNTZhOTYyZGNjMzIyNDUwYmI1NGQ0YjFhYzQxNWJlMDYgPSBMLnBvcHVwKHsibWF4V2lkdGgiOiAiMTAwJSJ9KTsKCiAgICAgICAgCiAgICAgICAgICAgIHZhciBodG1sX2JjMzUwZTQ2NWJhZTQ5YWU5YjE3ZWY3OWQ4OTk1NDU1ID0gJChgPGRpdiBpZD0iaHRtbF9iYzM1MGU0NjViYWU0OWFlOWIxN2VmNzlkODk5NTQ1NSIgc3R5bGU9IndpZHRoOiAxMDAuMCU7IGhlaWdodDogMTAwLjAlOyI+U3RuIEEgUE8gQm94ZXMgQ2x1c3RlciAwPC9kaXY+YClbMF07CiAgICAgICAgICAgIHBvcHVwXzU2YTk2MmRjYzMyMjQ1MGJiNTRkNGIxYWM0MTViZTA2LnNldENvbnRlbnQoaHRtbF9iYzM1MGU0NjViYWU0OWFlOWIxN2VmNzlkODk5NTQ1NSk7CiAgICAgICAgCgogICAgICAgIGNpcmNsZV9tYXJrZXJfN2MwOWZlMTM5N2NhNGUxNTgxMjU1NjkxNTk3Y2JlNGUuYmluZFBvcHVwKHBvcHVwXzU2YTk2MmRjYzMyMjQ1MGJiNTRkNGIxYWM0MTViZTA2KQogICAgICAgIDsKCiAgICAgICAgCiAgICAKICAgIAogICAgICAgICAgICB2YXIgY2lyY2xlX21hcmtlcl9kMmNjMzBhMWQ5OTM0ZGZkYjNlY2E3ZjJmMzA0OWJkZCA9IEwuY2lyY2xlTWFya2VyKAogICAgICAgICAgICAgICAgWzQzLjY2Nzk2NywgLTc5LjM2NzY3NTNdLAogICAgICAgICAgICAgICAgeyJidWJibGluZ01vdXNlRXZlbnRzIjogdHJ1ZSwgImNvbG9yIjogIiNmZjAwMDAiLCAiZGFzaEFycmF5IjogbnVsbCwgImRhc2hPZmZzZXQiOiBudWxsLCAiZmlsbCI6IHRydWUsICJmaWxsQ29sb3IiOiAiI2ZmMDAwMCIsICJmaWxsT3BhY2l0eSI6IDAuNywgImZpbGxSdWxlIjogImV2ZW5vZGQiLCAibGluZUNhcCI6ICJyb3VuZCIsICJsaW5lSm9pbiI6ICJyb3VuZCIsICJvcGFjaXR5IjogMS4wLCAicmFkaXVzIjogNSwgInN0cm9rZSI6IHRydWUsICJ3ZWlnaHQiOiAzfQogICAgICAgICAgICApLmFkZFRvKG1hcF9hZjlkN2FhNDFkYjQ0NjM0YTdhM2E3YTUxYTczMGIzMik7CiAgICAgICAgCiAgICAKICAgICAgICB2YXIgcG9wdXBfZjQ0NzAyZjEyOTg0NGI1YmFkZDM0ZjQ0NzUzNjFhYmMgPSBMLnBvcHVwKHsibWF4V2lkdGgiOiAiMTAwJSJ9KTsKCiAgICAgICAgCiAgICAgICAgICAgIHZhciBodG1sXzhmMWJiZWIxYzFjNjRkNjdhNzU5MWY5MjYyMTFlYTI5ID0gJChgPGRpdiBpZD0iaHRtbF84ZjFiYmViMWMxYzY0ZDY3YTc1OTFmOTI2MjExZWEyOSIgc3R5bGU9IndpZHRoOiAxMDAuMCU7IGhlaWdodDogMTAwLjAlOyI+U3QuIEphbWVzIFRvd24gLyBDYWJiYWdldG93biBDbHVzdGVyIDA8L2Rpdj5gKVswXTsKICAgICAgICAgICAgcG9wdXBfZjQ0NzAyZjEyOTg0NGI1YmFkZDM0ZjQ0NzUzNjFhYmMuc2V0Q29udGVudChodG1sXzhmMWJiZWIxYzFjNjRkNjdhNzU5MWY5MjYyMTFlYTI5KTsKICAgICAgICAKCiAgICAgICAgY2lyY2xlX21hcmtlcl9kMmNjMzBhMWQ5OTM0ZGZkYjNlY2E3ZjJmMzA0OWJkZC5iaW5kUG9wdXAocG9wdXBfZjQ0NzAyZjEyOTg0NGI1YmFkZDM0ZjQ0NzUzNjFhYmMpCiAgICAgICAgOwoKICAgICAgICAKICAgIAogICAgCiAgICAgICAgICAgIHZhciBjaXJjbGVfbWFya2VyXzI3OGNlZjcyZTYzYjRmMWM4MjQwODFiMjU5NGUzY2NjID0gTC5jaXJjbGVNYXJrZXIoCiAgICAgICAgICAgICAgICBbNDMuNjQ4NDI5MiwgLTc5LjM4MjI4MDJdLAogICAgICAgICAgICAgICAgeyJidWJibGluZ01vdXNlRXZlbnRzIjogdHJ1ZSwgImNvbG9yIjogIiNmZjAwMDAiLCAiZGFzaEFycmF5IjogbnVsbCwgImRhc2hPZmZzZXQiOiBudWxsLCAiZmlsbCI6IHRydWUsICJmaWxsQ29sb3IiOiAiI2ZmMDAwMCIsICJmaWxsT3BhY2l0eSI6IDAuNywgImZpbGxSdWxlIjogImV2ZW5vZGQiLCAibGluZUNhcCI6ICJyb3VuZCIsICJsaW5lSm9pbiI6ICJyb3VuZCIsICJvcGFjaXR5IjogMS4wLCAicmFkaXVzIjogNSwgInN0cm9rZSI6IHRydWUsICJ3ZWlnaHQiOiAzfQogICAgICAgICAgICApLmFkZFRvKG1hcF9hZjlkN2FhNDFkYjQ0NjM0YTdhM2E3YTUxYTczMGIzMik7CiAgICAgICAgCiAgICAKICAgICAgICB2YXIgcG9wdXBfOGQ5MTE0ZGY4Yjc0NDU2NTgzY2I0MDFkMThiMjA2MTYgPSBMLnBvcHVwKHsibWF4V2lkdGgiOiAiMTAwJSJ9KTsKCiAgICAgICAgCiAgICAgICAgICAgIHZhciBodG1sXzkyNDhjMTdlMzYzYTQ1NDc4YjFlNzA2YjAxNTJjMTc2ID0gJChgPGRpdiBpZD0iaHRtbF85MjQ4YzE3ZTM2M2E0NTQ3OGIxZTcwNmIwMTUyYzE3NiIgc3R5bGU9IndpZHRoOiAxMDAuMCU7IGhlaWdodDogMTAwLjAlOyI+Rmlyc3QgQ2FuYWRpYW4gUGxhY2UgLyBVbmRlcmdyb3VuZCBjaXR5IENsdXN0ZXIgMDwvZGl2PmApWzBdOwogICAgICAgICAgICBwb3B1cF84ZDkxMTRkZjhiNzQ0NTY1ODNjYjQwMWQxOGIyMDYxNi5zZXRDb250ZW50KGh0bWxfOTI0OGMxN2UzNjNhNDU0NzhiMWU3MDZiMDE1MmMxNzYpOwogICAgICAgIAoKICAgICAgICBjaXJjbGVfbWFya2VyXzI3OGNlZjcyZTYzYjRmMWM4MjQwODFiMjU5NGUzY2NjLmJpbmRQb3B1cChwb3B1cF84ZDkxMTRkZjhiNzQ0NTY1ODNjYjQwMWQxOGIyMDYxNikKICAgICAgICA7CgogICAgICAgIAogICAgCiAgICAKICAgICAgICAgICAgdmFyIGNpcmNsZV9tYXJrZXJfNmMyNjdjZjhjNzY1NDNmMzg5N2FkY2Q4NzVmM2FkNzQgPSBMLmNpcmNsZU1hcmtlcigKICAgICAgICAgICAgICAgIFs0My42NjU4NTk5LCAtNzkuMzgzMTU5OTAwMDAwMDFdLAogICAgICAgICAgICAgICAgeyJidWJibGluZ01vdXNlRXZlbnRzIjogdHJ1ZSwgImNvbG9yIjogIiNmZjAwMDAiLCAiZGFzaEFycmF5IjogbnVsbCwgImRhc2hPZmZzZXQiOiBudWxsLCAiZmlsbCI6IHRydWUsICJmaWxsQ29sb3IiOiAiI2ZmMDAwMCIsICJmaWxsT3BhY2l0eSI6IDAuNywgImZpbGxSdWxlIjogImV2ZW5vZGQiLCAibGluZUNhcCI6ICJyb3VuZCIsICJsaW5lSm9pbiI6ICJyb3VuZCIsICJvcGFjaXR5IjogMS4wLCAicmFkaXVzIjogNSwgInN0cm9rZSI6IHRydWUsICJ3ZWlnaHQiOiAzfQogICAgICAgICAgICApLmFkZFRvKG1hcF9hZjlkN2FhNDFkYjQ0NjM0YTdhM2E3YTUxYTczMGIzMik7CiAgICAgICAgCiAgICAKICAgICAgICB2YXIgcG9wdXBfMWZjNzhlYzlkMzA3NGUwNjkwMzUyNWYzNWQyZTBmZGEgPSBMLnBvcHVwKHsibWF4V2lkdGgiOiAiMTAwJSJ9KTsKCiAgICAgICAgCiAgICAgICAgICAgIHZhciBodG1sX2RkNDJiNzhmYzBmMDQ5NmQ5OTc0Y2E4ZDY5OGQ4NDcwID0gJChgPGRpdiBpZD0iaHRtbF9kZDQyYjc4ZmMwZjA0OTZkOTk3NGNhOGQ2OThkODQ3MCIgc3R5bGU9IndpZHRoOiAxMDAuMCU7IGhlaWdodDogMTAwLjAlOyI+Q2h1cmNoIGFuZCBXZWxsZXNsZXkgQ2x1c3RlciAwPC9kaXY+YClbMF07CiAgICAgICAgICAgIHBvcHVwXzFmYzc4ZWM5ZDMwNzRlMDY5MDM1MjVmMzVkMmUwZmRhLnNldENvbnRlbnQoaHRtbF9kZDQyYjc4ZmMwZjA0OTZkOTk3NGNhOGQ2OThkODQ3MCk7CiAgICAgICAgCgogICAgICAgIGNpcmNsZV9tYXJrZXJfNmMyNjdjZjhjNzY1NDNmMzg5N2FkY2Q4NzVmM2FkNzQuYmluZFBvcHVwKHBvcHVwXzFmYzc4ZWM5ZDMwNzRlMDY5MDM1MjVmMzVkMmUwZmRhKQogICAgICAgIDsKCiAgICAgICAgCiAgICAKICAgIAogICAgICAgICAgICB2YXIgY2lyY2xlX21hcmtlcl9jYjAyZGI3MDIwNGQ0YjFjYmE1ZjM5NDk2ZDAwYTQzNiA9IEwuY2lyY2xlTWFya2VyKAogICAgICAgICAgICAgICAgWzQzLjY2Mjc0MzksIC03OS4zMjE1NThdLAogICAgICAgICAgICAgICAgeyJidWJibGluZ01vdXNlRXZlbnRzIjogdHJ1ZSwgImNvbG9yIjogIiNmZmIzNjAiLCAiZGFzaEFycmF5IjogbnVsbCwgImRhc2hPZmZzZXQiOiBudWxsLCAiZmlsbCI6IHRydWUsICJmaWxsQ29sb3IiOiAiI2ZmYjM2MCIsICJmaWxsT3BhY2l0eSI6IDAuNywgImZpbGxSdWxlIjogImV2ZW5vZGQiLCAibGluZUNhcCI6ICJyb3VuZCIsICJsaW5lSm9pbiI6ICJyb3VuZCIsICJvcGFjaXR5IjogMS4wLCAicmFkaXVzIjogNSwgInN0cm9rZSI6IHRydWUsICJ3ZWlnaHQiOiAzfQogICAgICAgICAgICApLmFkZFRvKG1hcF9hZjlkN2FhNDFkYjQ0NjM0YTdhM2E3YTUxYTczMGIzMik7CiAgICAgICAgCiAgICAKICAgICAgICB2YXIgcG9wdXBfNGZjMDQxNWRhYmNkNDYyNDhiNGEzNmQ2MDYwMjFlMjEgPSBMLnBvcHVwKHsibWF4V2lkdGgiOiAiMTAwJSJ9KTsKCiAgICAgICAgCiAgICAgICAgICAgIHZhciBodG1sXzExMzc4YTJmNDVhNDQzMDY5OGZlMDNmYzJlMmRmNzRhID0gJChgPGRpdiBpZD0iaHRtbF8xMTM3OGEyZjQ1YTQ0MzA2OThmZTAzZmMyZTJkZjc0YSIgc3R5bGU9IndpZHRoOiAxMDAuMCU7IGhlaWdodDogMTAwLjAlOyI+QnVzaW5lc3MgcmVwbHkgbWFpbCBQcm9jZXNzaW5nIENlbnRyRSBDbHVzdGVyIDQ8L2Rpdj5gKVswXTsKICAgICAgICAgICAgcG9wdXBfNGZjMDQxNWRhYmNkNDYyNDhiNGEzNmQ2MDYwMjFlMjEuc2V0Q29udGVudChodG1sXzExMzc4YTJmNDVhNDQzMDY5OGZlMDNmYzJlMmRmNzRhKTsKICAgICAgICAKCiAgICAgICAgY2lyY2xlX21hcmtlcl9jYjAyZGI3MDIwNGQ0YjFjYmE1ZjM5NDk2ZDAwYTQzNi5iaW5kUG9wdXAocG9wdXBfNGZjMDQxNWRhYmNkNDYyNDhiNGEzNmQ2MDYwMjFlMjEpCiAgICAgICAgOwoKICAgICAgICAKICAgIAo8L3NjcmlwdD4= onload=\"this.contentDocument.open();this.contentDocument.write(atob(this.getAttribute('data-html')));this.contentDocument.close();\" allowfullscreen webkitallowfullscreen mozallowfullscreen></iframe></div></div>"
      ],
      "text/plain": [
       "<folium.folium.Map at 0x7f7044efa358>"
      ]
     },
     "execution_count": 73,
     "metadata": {},
     "output_type": "execute_result"
    }
   ],
   "source": [
    "# create map\n",
    "map_clusters = folium.Map(location=[latitude, longitude], zoom_start=11)\n",
    "\n",
    "# set color scheme for the clusters\n",
    "x = np.arange(kclusters)\n",
    "ys = [i + x + (i*x)**2 for i in range(kclusters)]\n",
    "colors_array = cm.rainbow(np.linspace(0, 1, len(ys)))\n",
    "rainbow = [colors.rgb2hex(i) for i in colors_array]\n",
    "\n",
    "# add markers to the map\n",
    "markers_colors = []\n",
    "for lat, lon, poi, cluster in zip(df['Latitude'], df['Longitude'], df['Neighborhood'], df['Cluster Labels']):\n",
    "    label = folium.Popup(str(poi) + ' Cluster ' + str(cluster), parse_html=True)\n",
    "    folium.CircleMarker(\n",
    "        [lat, lon],\n",
    "        radius=5,\n",
    "        popup=label,\n",
    "        color=rainbow[cluster-1],\n",
    "        fill=True,\n",
    "        fill_color=rainbow[cluster-1],\n",
    "        fill_opacity=0.7).add_to(map_clusters)\n",
    "       \n",
    "map_clusters"
   ]
  }
 ],
 "metadata": {
  "kernelspec": {
   "display_name": "Python 3.6",
   "language": "python",
   "name": "python3"
  },
  "language_info": {
   "codemirror_mode": {
    "name": "ipython",
    "version": 3
   },
   "file_extension": ".py",
   "mimetype": "text/x-python",
   "name": "python",
   "nbconvert_exporter": "python",
   "pygments_lexer": "ipython3",
   "version": "3.6.9"
  }
 },
 "nbformat": 4,
 "nbformat_minor": 1
}
