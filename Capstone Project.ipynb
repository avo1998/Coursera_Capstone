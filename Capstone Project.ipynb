{
 "cells": [
  {
   "cell_type": "markdown",
   "metadata": {
    "collapsed": true
   },
   "source": [
    "# Introduction\n",
    "## Problem Explanation\n",
    "\n",
    "Imagine that we work for a restaurant chain that has restaurants all over the world. We want to open a restaurant in Barcelona and for this we want to find a neighborhood where there are as many possible customers while having as little competition as possible. The Stakeholders want to find a Neighboorhood with a good income and with few venues, so they could maximize their profits when opening the restaurant."
   ]
  },
  {
   "cell_type": "markdown",
   "metadata": {},
   "source": [
    "## Data section\n",
    "\n",
    "For doing this analysis we will use a dataset that contains the different districts of Barcelona, with their respective neighborhoods and the population of each district. Once we have this dataset, we will use Foursquare to obtain the information and location abou the venues in each neighborhood. After that, we will be able to make a decision about the location of the new restaurant. "
   ]
  },
  {
   "cell_type": "markdown",
   "metadata": {},
   "source": [
    "Firts we obtain the dataset containing the districts and the population of the Barcelona Neighboorhoods from: \n",
    "https://opendata-ajuntament.barcelona.cat/data/en/dataset/est-renda-familiar/resource/1d9ff171-6f23-45c1-b02f-203b0589f08a\n",
    "\n",
    "A row of this dataset will have the name of the neighboorhood, the population of the neighboorhood, the income per family of the neighboorhood and the district. \n",
    "\n",
    "This dataset contains the information of the Barcelona Districts and Neighboorhoods, including their population and their income per family. With this data set and the infrmation that we can extract from the Fourquare Api, we can extract th Neighboorhood with high income and less population, and therefore we can share with the stakeholders this information to  ake a decision about where to locate the new fancy restaurant. \n",
    "\n",
    "We will use the income and the population to compare the different neighborhoods in order to make a decision of where to locate the restaurant. "
   ]
  }
 ],
 "metadata": {
  "kernelspec": {
   "display_name": "Python 3.6",
   "language": "python",
   "name": "python3"
  },
  "language_info": {
   "codemirror_mode": {
    "name": "ipython",
    "version": 3
   },
   "file_extension": ".py",
   "mimetype": "text/x-python",
   "name": "python",
   "nbconvert_exporter": "python",
   "pygments_lexer": "ipython3",
   "version": "3.6.9"
  }
 },
 "nbformat": 4,
 "nbformat_minor": 1
}
