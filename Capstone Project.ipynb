{
 "cells": [
  {
   "cell_type": "markdown",
   "metadata": {
    "collapsed": true
   },
   "source": [
    "# Introduction\n",
    "## Problem Explanation\n",
    "\n",
    "Imagine that we work for a restaurant chain that has restaurants all over the world. We want to open a restaurant in Barcelona and for this we want to find a neighborhood where there are as many possible customers while having as little competition as possible."
   ]
  },
  {
   "cell_type": "markdown",
   "metadata": {},
   "source": [
    "For doing this analysis we will use a dataset that contains the different districts of Barcelona, with their respective neighborhoods and the population of each district. Once we have this dataset, we will use Foursquare to obtain the information and location abou the venues in each neighborhood. After that, we will be able to make a decision about the location of the new restaurant. "
   ]
  },
  {
   "cell_type": "markdown",
   "metadata": {},
   "source": [
    "Firts we obtain the dataset from: https://en.wikipedia.org/wiki/Districts_of_Barcelona"
   ]
  },
  {
   "cell_type": "code",
   "execution_count": 5,
   "metadata": {},
   "outputs": [
    {
     "data": {
      "text/html": [
       "<div>\n",
       "<style scoped>\n",
       "    .dataframe tbody tr th:only-of-type {\n",
       "        vertical-align: middle;\n",
       "    }\n",
       "\n",
       "    .dataframe tbody tr th {\n",
       "        vertical-align: top;\n",
       "    }\n",
       "\n",
       "    .dataframe thead th {\n",
       "        text-align: right;\n",
       "    }\n",
       "</style>\n",
       "<table border=\"1\" class=\"dataframe\">\n",
       "  <thead>\n",
       "    <tr style=\"text-align: right;\">\n",
       "      <th></th>\n",
       "      <th>Number</th>\n",
       "      <th>District</th>\n",
       "      <th>Size km2</th>\n",
       "      <th>Population</th>\n",
       "      <th>Density inhabitants/km2</th>\n",
       "      <th>Neighbourhoods</th>\n",
       "    </tr>\n",
       "  </thead>\n",
       "  <tbody>\n",
       "    <tr>\n",
       "      <th>0</th>\n",
       "      <td>1</td>\n",
       "      <td>Ciutat Vella</td>\n",
       "      <td>4.49</td>\n",
       "      <td>111.290</td>\n",
       "      <td>24.786</td>\n",
       "      <td>La Barceloneta, El Gòtic, El Raval, Sant Pere,...</td>\n",
       "    </tr>\n",
       "    <tr>\n",
       "      <th>1</th>\n",
       "      <td>2</td>\n",
       "      <td>Eixample</td>\n",
       "      <td>7.46</td>\n",
       "      <td>262.485</td>\n",
       "      <td>35.586</td>\n",
       "      <td>L'Antiga Esquerra de l'Eixample, La Nova Esque...</td>\n",
       "    </tr>\n",
       "    <tr>\n",
       "      <th>2</th>\n",
       "      <td>3</td>\n",
       "      <td>Sants-Montjuïc</td>\n",
       "      <td>21.35</td>\n",
       "      <td>177.636</td>\n",
       "      <td>8.321</td>\n",
       "      <td>La Bordeta, la Font de la Guatlla, Hostafrancs...</td>\n",
       "    </tr>\n",
       "    <tr>\n",
       "      <th>3</th>\n",
       "      <td>4</td>\n",
       "      <td>Les Corts</td>\n",
       "      <td>6.08</td>\n",
       "      <td>82.588</td>\n",
       "      <td>13.584</td>\n",
       "      <td>les Corts, la Maternitat i Sant Ramon, Pedralbes</td>\n",
       "    </tr>\n",
       "    <tr>\n",
       "      <th>4</th>\n",
       "      <td>5</td>\n",
       "      <td>Sarrià-Sant Gervasi</td>\n",
       "      <td>20.09</td>\n",
       "      <td>140.461</td>\n",
       "      <td>6.992</td>\n",
       "      <td>El Putget i Farró, Sarrià, Sant Gervasi - la B...</td>\n",
       "    </tr>\n",
       "  </tbody>\n",
       "</table>\n",
       "</div>"
      ],
      "text/plain": [
       "   Number             District  Size km2  Population  Density inhabitants/km2  \\\n",
       "0       1         Ciutat Vella      4.49     111.290                   24.786   \n",
       "1       2             Eixample      7.46     262.485                   35.586   \n",
       "2       3       Sants-Montjuïc     21.35     177.636                    8.321   \n",
       "3       4            Les Corts      6.08      82.588                   13.584   \n",
       "4       5  Sarrià-Sant Gervasi     20.09     140.461                    6.992   \n",
       "\n",
       "                                      Neighbourhoods  \n",
       "0  La Barceloneta, El Gòtic, El Raval, Sant Pere,...  \n",
       "1  L'Antiga Esquerra de l'Eixample, La Nova Esque...  \n",
       "2  La Bordeta, la Font de la Guatlla, Hostafrancs...  \n",
       "3   les Corts, la Maternitat i Sant Ramon, Pedralbes  \n",
       "4  El Putget i Farró, Sarrià, Sant Gervasi - la B...  "
      ]
     },
     "execution_count": 5,
     "metadata": {},
     "output_type": "execute_result"
    }
   ],
   "source": [
    "\n",
    "import types\n",
    "import pandas as pd\n",
    "from botocore.client import Config\n",
    "import ibm_boto3\n",
    "\n",
    "def __iter__(self): return 0\n",
    "\n",
    "# @hidden_cell\n",
    "# The following code accesses a file in your IBM Cloud Object Storage. It includes your credentials.\n",
    "# You might want to remove those credentials before you share the notebook.\n",
    "client_ac3f7afc30a549c58fb6cf226131b705 = ibm_boto3.client(service_name='s3',\n",
    "    ibm_api_key_id='in2xZ9r7YRnAdOXHoMzjt_Qsh8HayHyJroyk42DYItDF',\n",
    "    ibm_auth_endpoint=\"https://iam.ng.bluemix.net/oidc/token\",\n",
    "    config=Config(signature_version='oauth'),\n",
    "    endpoint_url='https://s3-api.us-geo.objectstorage.service.networklayer.com')\n",
    "\n",
    "body = client_ac3f7afc30a549c58fb6cf226131b705.get_object(Bucket='capstoneproject-donotdelete-pr-f78ewbdz9fysl5',Key='Districts Barcelona.xlsx')['Body']\n",
    "# add missing __iter__ method, so pandas accepts body as file-like object\n",
    "if not hasattr(body, \"__iter__\"): body.__iter__ = types.MethodType( __iter__, body )\n",
    "\n",
    "df_data_0 = pd.read_excel(body)\n",
    "df_data_0.head()\n"
   ]
  }
 ],
 "metadata": {
  "kernelspec": {
   "display_name": "Python 3.6",
   "language": "python",
   "name": "python3"
  },
  "language_info": {
   "codemirror_mode": {
    "name": "ipython",
    "version": 3
   },
   "file_extension": ".py",
   "mimetype": "text/x-python",
   "name": "python",
   "nbconvert_exporter": "python",
   "pygments_lexer": "ipython3",
   "version": "3.6.9"
  }
 },
 "nbformat": 4,
 "nbformat_minor": 1
}
